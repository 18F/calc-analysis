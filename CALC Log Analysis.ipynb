{
 "cells": [
  {
   "cell_type": "markdown",
   "metadata": {},
   "source": [
    "## CALC log analysis\n",
    "\n",
    "The following notebook assumes you have downloaded the CALC logs as CSV from [api.data.gov/admin](https://api.data.gov/admin/) and saved them as `logs.csv` in the same directory as this notebook."
   ]
  },
  {
   "cell_type": "code",
   "execution_count": 43,
   "metadata": {
    "collapsed": true
   },
   "outputs": [],
   "source": [
    "import pandas"
   ]
  },
  {
   "cell_type": "code",
   "execution_count": 44,
   "metadata": {
    "collapsed": true
   },
   "outputs": [],
   "source": [
    "rows = pandas.read_csv('logs.csv', nrows=None, index_col=False, usecols=[\n",
    "    'Time',\n",
    "    'Method',\n",
    "    'URL',\n",
    "    'State',\n",
    "    'Country',\n",
    "    'City',\n",
    "    'Status',\n",
    "    'IP Address',\n",
    "])"
   ]
  },
  {
   "cell_type": "markdown",
   "metadata": {},
   "source": [
    "The following step is optional; we're removing identical requests coming from the same IP address. This might not actually be a great idea, especially if multiple actual users are behind the same IP address."
   ]
  },
  {
   "cell_type": "code",
   "execution_count": 58,
   "metadata": {
    "collapsed": false
   },
   "outputs": [],
   "source": [
    "rows.drop_duplicates(subset=['Method', 'URL', 'IP Address'], inplace=True)\n",
    "\n",
    "del rows['IP Address']"
   ]
  },
  {
   "cell_type": "markdown",
   "metadata": {},
   "source": [
    "Now we'll filter only successful requests to the `/rates/` endpoint, which is the one used when users click the **Search** button (or initially load the page). We'll also parse the query string and add new columns that represent information about the search criteria."
   ]
  },
  {
   "cell_type": "code",
   "execution_count": 94,
   "metadata": {
    "collapsed": false
   },
   "outputs": [],
   "source": [
    "from urllib.parse import urlparse, parse_qsl\n",
    "\n",
    "RATES_URL = 'https://api.data.gov/gsa/calc/rates/'\n",
    "FIELD_DEFAULTS = {\n",
    "    'Search term': '',\n",
    "    'Minimum experience': 0,\n",
    "    'Maximum experience': 45,\n",
    "    'Education level': '',\n",
    "    'Worksite': '',\n",
    "    'Business size': '',\n",
    "    'Schedule': '',\n",
    "    'Contract year': 'current',\n",
    "    'Rows excluded': 0,\n",
    "}\n",
    "\n",
    "rates = rows\n",
    "rates = rates[rates['Method'] == 'GET']\n",
    "rates = rates[rates['Status'] == 200]\n",
    "rates = rates[rates['URL'].str.startswith(RATES_URL)]\n",
    "\n",
    "del rates['Method']\n",
    "del rates['Status']\n",
    "\n",
    "rates['Query'] = rates['URL'].apply(\n",
    "    lambda url: dict(parse_qsl(urlparse(url).query))\n",
    ")\n",
    "\n",
    "del rates['URL']\n",
    "\n",
    "rates['Search term'] = rates['Query'].apply(\n",
    "    # We're only getting the first search term; not sure if this is a good idea.\n",
    "    lambda query: query.get('q', '').split(', ')[0].lower().strip()[:25]\n",
    ")\n",
    "rates['Minimum experience'] = rates['Query'].apply(\n",
    "    lambda query: int(query.get('min_experience', FIELD_DEFAULTS['Minimum experience']))\n",
    ")\n",
    "rates['Maximum experience'] = rates['Query'].apply(\n",
    "    lambda query: int(query.get('max_experience', FIELD_DEFAULTS['Maximum experience']))\n",
    ")\n",
    "rates['Education level'] = rates['Query'].apply(\n",
    "    lambda query: query.get('education', '')\n",
    ")\n",
    "rates['Worksite'] = rates['Query'].apply(\n",
    "    lambda query: query.get('site', '')\n",
    ")\n",
    "rates['Business size'] = rates['Query'].apply(\n",
    "    lambda query: query.get('business_size', '')\n",
    ")\n",
    "rates['Schedule'] = rates['Query'].apply(\n",
    "    lambda query: query.get('schedule', '')\n",
    ")\n",
    "rates['Contract year'] = rates['Query'].apply(\n",
    "    lambda query: query.get('contract-year', FIELD_DEFAULTS['Contract year'])\n",
    ")\n",
    "rates['Rows excluded'] = rates['Query'].apply(\n",
    "    lambda query: len(query['exclude'].split(',')) if query.get('exclude') else 0\n",
    ")\n",
    "\n",
    "del rates['Query']"
   ]
  },
  {
   "cell_type": "markdown",
   "metadata": {},
   "source": [
    "## Popular search terms"
   ]
  },
  {
   "cell_type": "code",
   "execution_count": 80,
   "metadata": {
    "collapsed": false
   },
   "outputs": [
    {
     "data": {
      "text/plain": [
       "                             3633\n",
       "engineer                     1598\n",
       "subject matter expert        1477\n",
       "project manager              1345\n",
       "program manager              1114\n",
       "senior engineer               737\n",
       "software engineer             595\n",
       "consultant                    464\n",
       "systems engineer              444\n",
       "training specialist           398\n",
       "dive                          389\n",
       "technician                    365\n",
       "program analyst               339\n",
       "analyst                       309\n",
       "plans                         291\n",
       "financial analyst             276\n",
       "technical writer              269\n",
       "engineer iii                  258\n",
       "senior program manager        238\n",
       "senior consultant             230\n",
       "senior systems engineer       209\n",
       "business analyst              199\n",
       "mechanical engineer           193\n",
       "engineer ii                   192\n",
       "senior analyst                192\n",
       "principal engineer            191\n",
       "senior project manager        186\n",
       "journeyman engineer/scien     183\n",
       "technical specialist          179\n",
       "administrative assistant      174\n",
       "                             ... \n",
       "associate analyst               1\n",
       "design study                    1\n",
       "vessel head mapping             1\n",
       "roofer                          1\n",
       "content management              1\n",
       "electro-optical                 1\n",
       "automotive engineer             1\n",
       "manufactu                       1\n",
       "program manager and secur       1\n",
       "horticulturist                  1\n",
       "robotic technician              1\n",
       "software engin                  1\n",
       "compu                           1\n",
       "security supervisor             1\n",
       "17. physicist                   1\n",
       "jr software enginner            1\n",
       "jour                            1\n",
       "quality contr                   1\n",
       "quality assurance assuran       1\n",
       "manager of production           1\n",
       "audio visual engineer           1\n",
       "finanical                       1\n",
       "intellectual propert            1\n",
       "sr. construction inspecto       1\n",
       "installing furniture            1\n",
       "main                            1\n",
       "sharepoint programmer           1\n",
       "mechanical development          1\n",
       "sr. management                  1\n",
       "ms windows administrator        1\n",
       "Name: Search term, dtype: int64"
      ]
     },
     "execution_count": 80,
     "metadata": {},
     "output_type": "execute_result"
    }
   ],
   "source": [
    "rates['Search term'].value_counts()"
   ]
  },
  {
   "cell_type": "markdown",
   "metadata": {},
   "source": [
    "## Search customization"
   ]
  },
  {
   "cell_type": "code",
   "execution_count": 93,
   "metadata": {
    "collapsed": false
   },
   "outputs": [
    {
     "name": "stdout",
     "output_type": "stream",
     "text": [
      "Queries involving search term: 92%\n",
      "Queries involving rows excluded: 15%\n",
      "Queries involving education level: 44%\n",
      "Queries involving minimum experience: 38%\n",
      "Queries involving worksite: 25%\n",
      "Queries involving schedule: 13%\n",
      "Queries involving business size: 19%\n",
      "Queries involving maximum experience: 37%\n",
      "Queries involving contract year: 3%\n"
     ]
    }
   ],
   "source": [
    "total_rates = rates.shape[0]\n",
    "\n",
    "for field, default in FIELD_DEFAULTS.items():\n",
    "    non_default_rates = rates[rates[field] != default].shape[0]\n",
    "    print(\n",
    "        \"Queries involving {}: {}%\".format(\n",
    "            field.lower(),\n",
    "            int(non_default_rates / total_rates * 100)\n",
    "        )\n",
    "    )"
   ]
  },
  {
   "cell_type": "code",
   "execution_count": null,
   "metadata": {
    "collapsed": true
   },
   "outputs": [],
   "source": []
  }
 ],
 "metadata": {
  "kernelspec": {
   "display_name": "Python 3",
   "language": "python",
   "name": "python3"
  },
  "language_info": {
   "codemirror_mode": {
    "name": "ipython",
    "version": 3
   },
   "file_extension": ".py",
   "mimetype": "text/x-python",
   "name": "python",
   "nbconvert_exporter": "python",
   "pygments_lexer": "ipython3",
   "version": "3.5.2"
  }
 },
 "nbformat": 4,
 "nbformat_minor": 1
}
