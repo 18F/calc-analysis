{
 "cells": [
  {
   "cell_type": "markdown",
   "metadata": {},
   "source": [
    "## CALC log analysis\n",
    "\n",
    "The following notebook assumes you have downloaded the CALC logs as CSV from [api.data.gov/admin](https://api.data.gov/admin/) and saved them as `logs.csv` in the same directory as this notebook."
   ]
  },
  {
   "cell_type": "code",
   "execution_count": 2,
   "metadata": {
    "collapsed": true
   },
   "outputs": [],
   "source": [
    "import pandas"
   ]
  },
  {
   "cell_type": "code",
   "execution_count": 3,
   "metadata": {
    "collapsed": true
   },
   "outputs": [],
   "source": [
    "rows = pandas.read_csv('logs.csv', nrows=None, index_col=False, usecols=[\n",
    "    'Time',\n",
    "    'Method',\n",
    "    'URL',\n",
    "    'State',\n",
    "    'Country',\n",
    "    'City',\n",
    "    'Status',\n",
    "    'IP Address',\n",
    "])"
   ]
  },
  {
   "cell_type": "markdown",
   "metadata": {},
   "source": [
    "The following step is optional; we're removing identical requests coming from the same IP address. This might not actually be a great idea, especially if multiple actual users are behind the same IP address."
   ]
  },
  {
   "cell_type": "code",
   "execution_count": 4,
   "metadata": {
    "collapsed": false
   },
   "outputs": [],
   "source": [
    "rows.drop_duplicates(subset=['Method', 'URL', 'IP Address'], inplace=True)\n",
    "\n",
    "del rows['IP Address']"
   ]
  },
  {
   "cell_type": "markdown",
   "metadata": {},
   "source": [
    "Now we'll filter only successful requests to the `/rates/` endpoint, which is the one used when users click the **Search** button (or initially load the page). We'll also parse the query string and add new columns that represent information about the search criteria."
   ]
  },
  {
   "cell_type": "code",
   "execution_count": 44,
   "metadata": {
    "collapsed": false,
    "scrolled": false
   },
   "outputs": [],
   "source": [
    "from urllib.parse import urlparse, parse_qsl\n",
    "\n",
    "RATES_URL = 'https://api.data.gov/gsa/calc/rates/'\n",
    "FIELD_DEFAULTS = {\n",
    "    'Search term': '',\n",
    "    'Minimum experience': 0,\n",
    "    'Maximum experience': 45,\n",
    "    'Education level': '',\n",
    "    'Worksite': '',\n",
    "    'Business size': '',\n",
    "    'Schedule': '',\n",
    "    'Contract year': 'current',\n",
    "    'Rows excluded': 0,\n",
    "}\n",
    "\n",
    "rates = rows\n",
    "rates = rates[rates['Method'] == 'GET']\n",
    "rates = rates[rates['Status'] == 200]\n",
    "rates = rates[rates['URL'].str.startswith(RATES_URL)]\n",
    "\n",
    "del rates['Method']\n",
    "del rates['Status']\n",
    "\n",
    "rates['Query'] = rates['URL'].apply(\n",
    "    lambda url: dict(parse_qsl(urlparse(url).query))\n",
    ")\n",
    "\n",
    "#del rates['URL']\n",
    "\n",
    "rates['Search term'] = rates['Query'].apply(\n",
    "    # We're only getting the first search term; not sure if this is a good idea.\n",
    "    lambda query: query.get('q', '').split(', ')[0].lower().strip()[:25]\n",
    ")\n",
    "rates['Minimum experience'] = rates['Query'].apply(\n",
    "    lambda query: int(query.get('min_experience', FIELD_DEFAULTS['Minimum experience']))\n",
    ")\n",
    "rates['Maximum experience'] = rates['Query'].apply(\n",
    "    lambda query: int(query.get('max_experience', FIELD_DEFAULTS['Maximum experience']))\n",
    ")\n",
    "rates['Education level'] = rates['Query'].apply(\n",
    "    lambda query: query.get('education', '')\n",
    ")\n",
    "rates['Worksite'] = rates['Query'].apply(\n",
    "    lambda query: query.get('site', '')\n",
    ")\n",
    "rates['Business size'] = rates['Query'].apply(\n",
    "    lambda query: query.get('business_size', '')\n",
    ")\n",
    "rates['Schedule'] = rates['Query'].apply(\n",
    "    lambda query: query.get('schedule', '')\n",
    ")\n",
    "rates['Contract year'] = rates['Query'].apply(\n",
    "    lambda query: query.get('contract-year', FIELD_DEFAULTS['Contract year'])\n",
    ")\n",
    "rates['Rows excluded'] = rates['Query'].apply(\n",
    "    lambda query: len(query['exclude'].split(',')) if query.get('exclude') else 0\n",
    ")\n",
    "\n",
    "del rates['Query']"
   ]
  },
  {
   "cell_type": "markdown",
   "metadata": {},
   "source": [
    "## Popular search terms"
   ]
  },
  {
   "cell_type": "code",
   "execution_count": 6,
   "metadata": {
    "collapsed": false,
    "scrolled": false
   },
   "outputs": [
    {
     "data": {
      "text/html": [
       "<div>\n",
       "<table border=\"1\" class=\"dataframe\">\n",
       "  <thead>\n",
       "    <tr style=\"text-align: right;\">\n",
       "      <th></th>\n",
       "      <th>Number of searches</th>\n",
       "    </tr>\n",
       "  </thead>\n",
       "  <tbody>\n",
       "    <tr>\n",
       "      <th></th>\n",
       "      <td>3633</td>\n",
       "    </tr>\n",
       "    <tr>\n",
       "      <th>engineer</th>\n",
       "      <td>1598</td>\n",
       "    </tr>\n",
       "    <tr>\n",
       "      <th>subject matter expert</th>\n",
       "      <td>1477</td>\n",
       "    </tr>\n",
       "    <tr>\n",
       "      <th>project manager</th>\n",
       "      <td>1345</td>\n",
       "    </tr>\n",
       "    <tr>\n",
       "      <th>program manager</th>\n",
       "      <td>1114</td>\n",
       "    </tr>\n",
       "    <tr>\n",
       "      <th>senior engineer</th>\n",
       "      <td>737</td>\n",
       "    </tr>\n",
       "    <tr>\n",
       "      <th>software engineer</th>\n",
       "      <td>595</td>\n",
       "    </tr>\n",
       "    <tr>\n",
       "      <th>consultant</th>\n",
       "      <td>464</td>\n",
       "    </tr>\n",
       "    <tr>\n",
       "      <th>systems engineer</th>\n",
       "      <td>444</td>\n",
       "    </tr>\n",
       "    <tr>\n",
       "      <th>training specialist</th>\n",
       "      <td>398</td>\n",
       "    </tr>\n",
       "    <tr>\n",
       "      <th>dive</th>\n",
       "      <td>389</td>\n",
       "    </tr>\n",
       "    <tr>\n",
       "      <th>technician</th>\n",
       "      <td>365</td>\n",
       "    </tr>\n",
       "    <tr>\n",
       "      <th>program analyst</th>\n",
       "      <td>339</td>\n",
       "    </tr>\n",
       "    <tr>\n",
       "      <th>analyst</th>\n",
       "      <td>309</td>\n",
       "    </tr>\n",
       "    <tr>\n",
       "      <th>plans</th>\n",
       "      <td>291</td>\n",
       "    </tr>\n",
       "    <tr>\n",
       "      <th>financial analyst</th>\n",
       "      <td>276</td>\n",
       "    </tr>\n",
       "    <tr>\n",
       "      <th>technical writer</th>\n",
       "      <td>269</td>\n",
       "    </tr>\n",
       "    <tr>\n",
       "      <th>engineer iii</th>\n",
       "      <td>258</td>\n",
       "    </tr>\n",
       "    <tr>\n",
       "      <th>senior program manager</th>\n",
       "      <td>238</td>\n",
       "    </tr>\n",
       "    <tr>\n",
       "      <th>senior consultant</th>\n",
       "      <td>230</td>\n",
       "    </tr>\n",
       "  </tbody>\n",
       "</table>\n",
       "</div>"
      ],
      "text/plain": [
       "                        Number of searches\n",
       "                                      3633\n",
       "engineer                              1598\n",
       "subject matter expert                 1477\n",
       "project manager                       1345\n",
       "program manager                       1114\n",
       "senior engineer                        737\n",
       "software engineer                      595\n",
       "consultant                             464\n",
       "systems engineer                       444\n",
       "training specialist                    398\n",
       "dive                                   389\n",
       "technician                             365\n",
       "program analyst                        339\n",
       "analyst                                309\n",
       "plans                                  291\n",
       "financial analyst                      276\n",
       "technical writer                       269\n",
       "engineer iii                           258\n",
       "senior program manager                 238\n",
       "senior consultant                      230"
      ]
     },
     "execution_count": 6,
     "metadata": {},
     "output_type": "execute_result"
    }
   ],
   "source": [
    "rates['Search term'].value_counts().head(20).to_frame('Number of searches')"
   ]
  },
  {
   "cell_type": "markdown",
   "metadata": {},
   "source": [
    "## Search customization"
   ]
  },
  {
   "cell_type": "code",
   "execution_count": 45,
   "metadata": {
    "collapsed": false
   },
   "outputs": [
    {
     "data": {
      "text/html": [
       "<div>\n",
       "<table border=\"1\" class=\"dataframe\">\n",
       "  <thead>\n",
       "    <tr style=\"text-align: right;\">\n",
       "      <th></th>\n",
       "      <th>%</th>\n",
       "    </tr>\n",
       "  </thead>\n",
       "  <tbody>\n",
       "    <tr>\n",
       "      <th>Search term</th>\n",
       "      <td>92</td>\n",
       "    </tr>\n",
       "    <tr>\n",
       "      <th>Education level</th>\n",
       "      <td>44</td>\n",
       "    </tr>\n",
       "    <tr>\n",
       "      <th>Minimum experience</th>\n",
       "      <td>38</td>\n",
       "    </tr>\n",
       "    <tr>\n",
       "      <th>Maximum experience</th>\n",
       "      <td>37</td>\n",
       "    </tr>\n",
       "    <tr>\n",
       "      <th>Worksite</th>\n",
       "      <td>25</td>\n",
       "    </tr>\n",
       "    <tr>\n",
       "      <th>Business size</th>\n",
       "      <td>19</td>\n",
       "    </tr>\n",
       "    <tr>\n",
       "      <th>Rows excluded</th>\n",
       "      <td>15</td>\n",
       "    </tr>\n",
       "    <tr>\n",
       "      <th>Schedule</th>\n",
       "      <td>13</td>\n",
       "    </tr>\n",
       "    <tr>\n",
       "      <th>Contract year</th>\n",
       "      <td>3</td>\n",
       "    </tr>\n",
       "  </tbody>\n",
       "</table>\n",
       "</div>"
      ],
      "text/plain": [
       "                     %\n",
       "Search term         92\n",
       "Education level     44\n",
       "Minimum experience  38\n",
       "Maximum experience  37\n",
       "Worksite            25\n",
       "Business size       19\n",
       "Rows excluded       15\n",
       "Schedule            13\n",
       "Contract year        3"
      ]
     },
     "execution_count": 45,
     "metadata": {},
     "output_type": "execute_result"
    }
   ],
   "source": [
    "total_rates = rates.shape[0]\n",
    "percentages = {}\n",
    "\n",
    "for field, default in FIELD_DEFAULTS.items():\n",
    "    non_default_rates = rates[rates[field] != default].shape[0]\n",
    "    percentages[field] = int(non_default_rates / total_rates * 100)\n",
    "\n",
    "pandas.Series(percentages).to_frame('%').sort_values(by='%', ascending=False)"
   ]
  },
  {
   "cell_type": "markdown",
   "metadata": {},
   "source": [
    "### How many searches had *no* customization, other than search term?"
   ]
  },
  {
   "cell_type": "code",
   "execution_count": 51,
   "metadata": {
    "collapsed": false
   },
   "outputs": [
    {
     "data": {
      "text/plain": [
       "0.2937215041619609"
      ]
     },
     "execution_count": 51,
     "metadata": {},
     "output_type": "execute_result"
    }
   ],
   "source": [
    "r = rates\n",
    "\n",
    "for field, default in FIELD_DEFAULTS.items():\n",
    "    if field == 'Search term':\n",
    "        continue\n",
    "    r = r[r[field] == default]\n",
    "\n",
    "r.shape[0] / total_rates"
   ]
  },
  {
   "cell_type": "markdown",
   "metadata": {},
   "source": [
    "## Distribution of minimum experience"
   ]
  },
  {
   "cell_type": "code",
   "execution_count": 43,
   "metadata": {
    "collapsed": false
   },
   "outputs": [
    {
     "data": {
      "text/plain": [
       "<matplotlib.axes._subplots.AxesSubplot at 0x11afa30b8>"
      ]
     },
     "execution_count": 43,
     "metadata": {},
     "output_type": "execute_result"
    },
    {
     "data": {
      "image/png": "[encoded data removed]",
      "text/plain": [
       "<matplotlib.figure.Figure at 0x11c805080>"
      ]
     },
     "metadata": {},
     "output_type": "display_data"
    }
   ],
   "source": [
    "%matplotlib inline\n",
    "\n",
    "rates[rates['Minimum experience'] > 0]['Minimum experience'].value_counts().sort_index().plot()"
   ]
  },
  {
   "cell_type": "code",
   "execution_count": null,
   "metadata": {
    "collapsed": true
   },
   "outputs": [],
   "source": []
  }
 ],
 "metadata": {
  "kernelspec": {
   "display_name": "Python 3",
   "language": "python",
   "name": "python3"
  },
  "language_info": {
   "codemirror_mode": {
    "name": "ipython",
    "version": 3
   },
   "file_extension": ".py",
   "mimetype": "text/x-python",
   "name": "python",
   "nbconvert_exporter": "python",
   "pygments_lexer": "ipython3",
   "version": "3.5.2"
  }
 },
 "nbformat": 4,
 "nbformat_minor": 1
}
