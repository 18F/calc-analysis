{
 "cells": [
  {
   "cell_type": "markdown",
   "metadata": {},
   "source": [
    "## CALC log analysis\n",
    "\n",
    "The following notebook assumes you have downloaded the CALC logs as CSV from [api.data.gov/admin](https://api.data.gov/admin/) and saved them as `logs.csv` in the same directory as this notebook."
   ]
  },
  {
   "cell_type": "code",
   "execution_count": 2,
   "metadata": {
    "collapsed": true
   },
   "outputs": [],
   "source": [
    "import pandas"
   ]
  },
  {
   "cell_type": "code",
   "execution_count": 3,
   "metadata": {
    "collapsed": true
   },
   "outputs": [],
   "source": [
    "rows = pandas.read_csv('logs.csv', nrows=None, index_col=False, usecols=[\n",
    "    'Time',\n",
    "    'Method',\n",
    "    'URL',\n",
    "    'State',\n",
    "    'Country',\n",
    "    'City',\n",
    "    'Status',\n",
    "    'IP Address',\n",
    "])"
   ]
  },
  {
   "cell_type": "markdown",
   "metadata": {},
   "source": [
    "The following step is optional; we're removing identical requests coming from the same IP address. This might not actually be a great idea, especially if multiple actual users are behind the same IP address."
   ]
  },
  {
   "cell_type": "code",
   "execution_count": 4,
   "metadata": {
    "collapsed": false
   },
   "outputs": [],
   "source": [
    "rows.drop_duplicates(subset=['Method', 'URL', 'IP Address'], inplace=True)\n",
    "\n",
    "del rows['IP Address']"
   ]
  },
  {
   "cell_type": "markdown",
   "metadata": {},
   "source": [
    "Now we'll filter only successful requests to the `/rates/` endpoint, which is the one used when users click the **Search** button (or initially load the page). We'll also parse the query string and add new columns that represent information about the search criteria."
   ]
  },
  {
   "cell_type": "code",
   "execution_count": 206,
   "metadata": {
    "collapsed": false,
    "scrolled": false
   },
   "outputs": [],
   "source": [
    "from urllib.parse import urlparse, parse_qsl\n",
    "\n",
    "RATES_URL = 'https://api.data.gov/gsa/calc/rates/'\n",
    "\n",
    "rates = rows\n",
    "rates = rates[rates['Method'] == 'GET']\n",
    "rates = rates[rates['Status'] == 200]\n",
    "rates = rates[rates['URL'].str.startswith(RATES_URL)]\n",
    "rates['Time'] = rates['Time'].apply(pandas.to_datetime)\n",
    "rates.index = rates['Time']\n",
    "\n",
    "del rates['Method']\n",
    "del rates['Status']\n",
    "del rates['Time']\n",
    "\n",
    "queries = rates['URL'].apply(\n",
    "    lambda url: dict(parse_qsl(urlparse(url).query))\n",
    ").apply(pandas.Series)"
   ]
  },
  {
   "cell_type": "code",
   "execution_count": 207,
   "metadata": {
    "collapsed": false
   },
   "outputs": [],
   "source": [
    "FIELD_DEFAULTS = {\n",
    "    'Search terms': '',\n",
    "    'Minimum experience': 0,\n",
    "    'Maximum experience': 45,\n",
    "    'Education level': '',\n",
    "    'Worksite': '',\n",
    "    'Business size': '',\n",
    "    'Schedule': '',\n",
    "    'Contract year': 'current',\n",
    "    'Proposed price': '',\n",
    "    'Query type': 'match_all',\n",
    "    'Sort': 'current_price',\n",
    "    'Rows excluded': 0,\n",
    "}\n",
    "\n",
    "rates['Search terms'] = queries['q'].str.lower().str.strip().str.replace(r',[ ]*$', '')\n",
    "rates['Minimum experience'] = queries['min_experience'].apply(pandas.to_numeric)\n",
    "rates['Maximum experience'] = queries['max_experience'].apply(pandas.to_numeric)\n",
    "rates['Education level'] = queries['education']\n",
    "rates['Worksite'] = queries['site']\n",
    "rates['Business size'] = queries['business_size']\n",
    "rates['Schedule'] = queries['schedule']\n",
    "rates['Contract year'] = queries['contract-year']\n",
    "rates['Proposed price'] = queries['proposed-price']\n",
    "rates['Query type'] = queries['query_type']\n",
    "rates['Sort'] = queries['sort']\n",
    "rates['Rows excluded'] = queries['exclude'].str.split(',').str.len()\n",
    "\n",
    "rates = rates.fillna(FIELD_DEFAULTS)"
   ]
  },
  {
   "cell_type": "markdown",
   "metadata": {},
   "source": [
    "## Popular search terms"
   ]
  },
  {
   "cell_type": "code",
   "execution_count": 208,
   "metadata": {
    "collapsed": false,
    "scrolled": false
   },
   "outputs": [
    {
     "data": {
      "text/html": [
       "<div>\n",
       "<table border=\"1\" class=\"dataframe\">\n",
       "  <thead>\n",
       "    <tr style=\"text-align: right;\">\n",
       "      <th></th>\n",
       "      <th>Number of searches</th>\n",
       "    </tr>\n",
       "  </thead>\n",
       "  <tbody>\n",
       "    <tr>\n",
       "      <th></th>\n",
       "      <td>3629</td>\n",
       "    </tr>\n",
       "    <tr>\n",
       "      <th>subject matter expert</th>\n",
       "      <td>1444</td>\n",
       "    </tr>\n",
       "    <tr>\n",
       "      <th>project manager</th>\n",
       "      <td>1338</td>\n",
       "    </tr>\n",
       "    <tr>\n",
       "      <th>engineer</th>\n",
       "      <td>1125</td>\n",
       "    </tr>\n",
       "    <tr>\n",
       "      <th>program manager</th>\n",
       "      <td>1099</td>\n",
       "    </tr>\n",
       "    <tr>\n",
       "      <th>senior engineer</th>\n",
       "      <td>708</td>\n",
       "    </tr>\n",
       "    <tr>\n",
       "      <th>software engineer</th>\n",
       "      <td>593</td>\n",
       "    </tr>\n",
       "    <tr>\n",
       "      <th>consultant</th>\n",
       "      <td>447</td>\n",
       "    </tr>\n",
       "    <tr>\n",
       "      <th>systems engineer</th>\n",
       "      <td>435</td>\n",
       "    </tr>\n",
       "    <tr>\n",
       "      <th>training specialist</th>\n",
       "      <td>398</td>\n",
       "    </tr>\n",
       "    <tr>\n",
       "      <th>dive, diving, equipment, operator, engineer</th>\n",
       "      <td>386</td>\n",
       "    </tr>\n",
       "    <tr>\n",
       "      <th>plans</th>\n",
       "      <td>291</td>\n",
       "    </tr>\n",
       "    <tr>\n",
       "      <th>engineer, scientist</th>\n",
       "      <td>289</td>\n",
       "    </tr>\n",
       "    <tr>\n",
       "      <th>analyst</th>\n",
       "      <td>281</td>\n",
       "    </tr>\n",
       "    <tr>\n",
       "      <th>technician</th>\n",
       "      <td>278</td>\n",
       "    </tr>\n",
       "    <tr>\n",
       "      <th>financial analyst</th>\n",
       "      <td>276</td>\n",
       "    </tr>\n",
       "    <tr>\n",
       "      <th>technical writer</th>\n",
       "      <td>266</td>\n",
       "    </tr>\n",
       "    <tr>\n",
       "      <th>engineer iii</th>\n",
       "      <td>258</td>\n",
       "    </tr>\n",
       "    <tr>\n",
       "      <th>program analyst</th>\n",
       "      <td>237</td>\n",
       "    </tr>\n",
       "    <tr>\n",
       "      <th>senior consultant</th>\n",
       "      <td>205</td>\n",
       "    </tr>\n",
       "  </tbody>\n",
       "</table>\n",
       "</div>"
      ],
      "text/plain": [
       "                                             Number of searches\n",
       "                                                           3629\n",
       "subject matter expert                                      1444\n",
       "project manager                                            1338\n",
       "engineer                                                   1125\n",
       "program manager                                            1099\n",
       "senior engineer                                             708\n",
       "software engineer                                           593\n",
       "consultant                                                  447\n",
       "systems engineer                                            435\n",
       "training specialist                                         398\n",
       "dive, diving, equipment, operator, engineer                 386\n",
       "plans                                                       291\n",
       "engineer, scientist                                         289\n",
       "analyst                                                     281\n",
       "technician                                                  278\n",
       "financial analyst                                           276\n",
       "technical writer                                            266\n",
       "engineer iii                                                258\n",
       "program analyst                                             237\n",
       "senior consultant                                           205"
      ]
     },
     "execution_count": 208,
     "metadata": {},
     "output_type": "execute_result"
    }
   ],
   "source": [
    "rates['Search terms'].value_counts().head(20).to_frame('Number of searches')"
   ]
  },
  {
   "cell_type": "markdown",
   "metadata": {},
   "source": [
    "## Search customization"
   ]
  },
  {
   "cell_type": "code",
   "execution_count": 209,
   "metadata": {
    "collapsed": false
   },
   "outputs": [
    {
     "data": {
      "text/html": [
       "<div>\n",
       "<table border=\"1\" class=\"dataframe\">\n",
       "  <thead>\n",
       "    <tr style=\"text-align: right;\">\n",
       "      <th></th>\n",
       "      <th>%</th>\n",
       "    </tr>\n",
       "  </thead>\n",
       "  <tbody>\n",
       "    <tr>\n",
       "      <th>Search terms</th>\n",
       "      <td>92</td>\n",
       "    </tr>\n",
       "    <tr>\n",
       "      <th>Education level</th>\n",
       "      <td>44</td>\n",
       "    </tr>\n",
       "    <tr>\n",
       "      <th>Minimum experience</th>\n",
       "      <td>38</td>\n",
       "    </tr>\n",
       "    <tr>\n",
       "      <th>Maximum experience</th>\n",
       "      <td>37</td>\n",
       "    </tr>\n",
       "    <tr>\n",
       "      <th>Worksite</th>\n",
       "      <td>25</td>\n",
       "    </tr>\n",
       "    <tr>\n",
       "      <th>Business size</th>\n",
       "      <td>19</td>\n",
       "    </tr>\n",
       "    <tr>\n",
       "      <th>Rows excluded</th>\n",
       "      <td>15</td>\n",
       "    </tr>\n",
       "    <tr>\n",
       "      <th>Proposed price</th>\n",
       "      <td>14</td>\n",
       "    </tr>\n",
       "    <tr>\n",
       "      <th>Schedule</th>\n",
       "      <td>13</td>\n",
       "    </tr>\n",
       "    <tr>\n",
       "      <th>Sort</th>\n",
       "      <td>11</td>\n",
       "    </tr>\n",
       "    <tr>\n",
       "      <th>Query type</th>\n",
       "      <td>8</td>\n",
       "    </tr>\n",
       "    <tr>\n",
       "      <th>Contract year</th>\n",
       "      <td>3</td>\n",
       "    </tr>\n",
       "  </tbody>\n",
       "</table>\n",
       "</div>"
      ],
      "text/plain": [
       "                     %\n",
       "Search terms        92\n",
       "Education level     44\n",
       "Minimum experience  38\n",
       "Maximum experience  37\n",
       "Worksite            25\n",
       "Business size       19\n",
       "Rows excluded       15\n",
       "Proposed price      14\n",
       "Schedule            13\n",
       "Sort                11\n",
       "Query type           8\n",
       "Contract year        3"
      ]
     },
     "execution_count": 209,
     "metadata": {},
     "output_type": "execute_result"
    }
   ],
   "source": [
    "total_rates = rates.shape[0]\n",
    "percentages = {}\n",
    "\n",
    "for field, default in FIELD_DEFAULTS.items():\n",
    "    non_default_rates = rates[rates[field] != default].shape[0]\n",
    "    percentages[field] = int(non_default_rates / total_rates * 100)\n",
    "\n",
    "pandas.Series(percentages).to_frame('%').sort_values(by='%', ascending=False)"
   ]
  },
  {
   "cell_type": "markdown",
   "metadata": {},
   "source": [
    "### How many searches had *no* customization, other than search term?"
   ]
  },
  {
   "cell_type": "code",
   "execution_count": 210,
   "metadata": {
    "collapsed": false
   },
   "outputs": [
    {
     "data": {
      "text/plain": [
       "0.23256786715188021"
      ]
     },
     "execution_count": 210,
     "metadata": {},
     "output_type": "execute_result"
    }
   ],
   "source": [
    "r = rates\n",
    "\n",
    "for field, default in FIELD_DEFAULTS.items():\n",
    "    if field == 'Search terms':\n",
    "        continue\n",
    "    r = r[r[field] == default]\n",
    "\n",
    "r.shape[0] / total_rates"
   ]
  },
  {
   "cell_type": "markdown",
   "metadata": {},
   "source": [
    "## Distribution of minimum experience"
   ]
  },
  {
   "cell_type": "code",
   "execution_count": 211,
   "metadata": {
    "collapsed": false
   },
   "outputs": [
    {
     "data": {
      "text/plain": [
       "<matplotlib.axes._subplots.AxesSubplot at 0x12f4861d0>"
      ]
     },
     "execution_count": 211,
     "metadata": {},
     "output_type": "execute_result"
    },
    {
     "data": {
      "image/png": "[encoded data removed]",
      "text/plain": [
       "<matplotlib.figure.Figure at 0x12d61c518>"
      ]
     },
     "metadata": {},
     "output_type": "display_data"
    }
   ],
   "source": [
    "%matplotlib inline\n",
    "\n",
    "rates[rates['Minimum experience'] > 0]['Minimum experience'].value_counts().sort_index().plot()"
   ]
  },
  {
   "cell_type": "code",
   "execution_count": 235,
   "metadata": {
    "collapsed": false
   },
   "outputs": [
    {
     "data": {
      "text/plain": [
       "<matplotlib.axes._subplots.AxesSubplot at 0x139f10668>"
      ]
     },
     "execution_count": 235,
     "metadata": {},
     "output_type": "execute_result"
    },
    {
     "data": {
      "image/png": "[encoded data removed]",
      "text/plain": [
       "<matplotlib.figure.Figure at 0x1348fd160>"
      ]
     },
     "metadata": {},
     "output_type": "display_data"
    }
   ],
   "source": [
    "r = pandas.DataFrame()\n",
    "\n",
    "for term in ['engineer', 'analyst', 'manager', 'designer']:\n",
    "    r[term] = (rates['Search terms'].str.contains(term)).astype(int).resample('D').sum()\n",
    "\n",
    "r.plot(title='Labor category queries per day')"
   ]
  },
  {
   "cell_type": "code",
   "execution_count": null,
   "metadata": {
    "collapsed": true
   },
   "outputs": [],
   "source": []
  }
 ],
 "metadata": {
  "kernelspec": {
   "display_name": "Python 3",
   "language": "python",
   "name": "python3"
  },
  "language_info": {
   "codemirror_mode": {
    "name": "ipython",
    "version": 3
   },
   "file_extension": ".py",
   "mimetype": "text/x-python",
   "name": "python",
   "nbconvert_exporter": "python",
   "pygments_lexer": "ipython3",
   "version": "3.5.2"
  }
 },
 "nbformat": 4,
 "nbformat_minor": 1
}
