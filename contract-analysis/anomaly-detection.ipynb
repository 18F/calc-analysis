{
 "cells": [
  {
   "cell_type": "markdown",
   "metadata": {},
   "source": [
    "# Anomaly detection\n",
    "\n",
    "This is an attempt to perform [anomaly detection][] on contract data. In particular, many prices in the contract data seem to reflect _daily_ (or perhaps even weekly or monthly) rates rather than _hourly_ rates, and this is an attempt to find them (though we might find other anomalies in the process too).\n",
    "\n",
    "Note that unlike other notebooks in this repository, this one requires Anaconda and runs on Python 3.6.\n",
    "\n",
    "[anomaly detection]: https://www.coursera.org/learn/machine-learning/lecture/V9MNG/problem-motivation"
   ]
  },
  {
   "cell_type": "code",
   "execution_count": 1,
   "metadata": {
    "collapsed": true
   },
   "outputs": [],
   "source": [
    "import pandas as pd\n",
    "import numpy as np\n",
    "import seaborn as sns\n",
    "import matplotlib.pyplot as plt\n",
    "\n",
    "sns.set(color_codes=True)\n",
    "\n",
    "%matplotlib inline"
   ]
  },
  {
   "cell_type": "markdown",
   "metadata": {},
   "source": [
    "## Load hourly price data"
   ]
  },
  {
   "cell_type": "code",
   "execution_count": 2,
   "metadata": {
    "scrolled": true
   },
   "outputs": [
    {
     "name": "stdout",
     "output_type": "stream",
     "text": [
      "Loaded 54610 rows.\n"
     ]
    },
    {
     "data": {
      "text/html": [
       "<div>\n",
       "<style>\n",
       "    .dataframe thead tr:only-child th {\n",
       "        text-align: right;\n",
       "    }\n",
       "\n",
       "    .dataframe thead th {\n",
       "        text-align: left;\n",
       "    }\n",
       "\n",
       "    .dataframe tbody tr th {\n",
       "        vertical-align: top;\n",
       "    }\n",
       "</style>\n",
       "<table border=\"1\" class=\"dataframe\">\n",
       "  <thead>\n",
       "    <tr style=\"text-align: right;\">\n",
       "      <th></th>\n",
       "      <th>name</th>\n",
       "      <th>edu</th>\n",
       "      <th>minxp</th>\n",
       "      <th>company</th>\n",
       "      <th>contract</th>\n",
       "      <th>schedule</th>\n",
       "      <th>price</th>\n",
       "    </tr>\n",
       "  </thead>\n",
       "  <tbody>\n",
       "    <tr>\n",
       "      <th>0</th>\n",
       "      <td>Project Manager</td>\n",
       "      <td>Bachelors</td>\n",
       "      <td>8.0</td>\n",
       "      <td>SSG-Advisors, LLC</td>\n",
       "      <td>GS-10F-0274S</td>\n",
       "      <td>MOBIS</td>\n",
       "      <td>1013.38</td>\n",
       "    </tr>\n",
       "    <tr>\n",
       "      <th>1</th>\n",
       "      <td>Program Coordinator</td>\n",
       "      <td>Bachelors</td>\n",
       "      <td>1.0</td>\n",
       "      <td>University Of Maryland University College</td>\n",
       "      <td>GS-10F-0357N</td>\n",
       "      <td>MOBIS</td>\n",
       "      <td>992.56</td>\n",
       "    </tr>\n",
       "    <tr>\n",
       "      <th>2</th>\n",
       "      <td>Interpretation Services Class 4: Afrikan,Akan,...</td>\n",
       "      <td>NaN</td>\n",
       "      <td>2.0</td>\n",
       "      <td>Transperfect Translations International, Inc.</td>\n",
       "      <td>GS-10F-0076S</td>\n",
       "      <td>Language Services</td>\n",
       "      <td>992.00</td>\n",
       "    </tr>\n",
       "  </tbody>\n",
       "</table>\n",
       "</div>"
      ],
      "text/plain": [
       "                                                name        edu  minxp  \\\n",
       "0                                    Project Manager  Bachelors    8.0   \n",
       "1                                Program Coordinator  Bachelors    1.0   \n",
       "2  Interpretation Services Class 4: Afrikan,Akan,...        NaN    2.0   \n",
       "\n",
       "                                         company      contract  \\\n",
       "0                              SSG-Advisors, LLC  GS-10F-0274S   \n",
       "1      University Of Maryland University College  GS-10F-0357N   \n",
       "2  Transperfect Translations International, Inc.  GS-10F-0076S   \n",
       "\n",
       "            schedule    price  \n",
       "0              MOBIS  1013.38  \n",
       "1              MOBIS   992.56  \n",
       "2  Language Services   992.00  "
      ]
     },
     "execution_count": 2,
     "metadata": {},
     "output_type": "execute_result"
    }
   ],
   "source": [
    "hourly_prices = pd.read_csv('../data/hourly_prices.csv', index_col=False, thousands=',', usecols=[\n",
    "    'Labor Category',\n",
    "    'CurrentYearPricing',\n",
    "    'Education',\n",
    "    'MinExpAct',\n",
    "    'Schedule',\n",
    "    'CONTRACT .',\n",
    "    'COMPANY NAME',\n",
    "])\n",
    "\n",
    "hourly_prices.rename(columns={\n",
    "    'Labor Category': 'name',\n",
    "    'CurrentYearPricing': 'price',\n",
    "    'Education': 'edu',\n",
    "    'MinExpAct': 'minxp',\n",
    "    'Schedule': 'schedule',\n",
    "    'CONTRACT .': 'contract',\n",
    "    'COMPANY NAME': 'company',\n",
    "}, inplace=True)\n",
    "\n",
    "print(f\"Loaded {hourly_prices.shape[0]} rows.\")\n",
    "\n",
    "# Show some example rows, just so we can get an idea of the shape of the data.\n",
    "hourly_prices[:3]"
   ]
  },
  {
   "cell_type": "markdown",
   "metadata": {},
   "source": [
    "## Remove incomplete/invalid data\n",
    "\n",
    "Some of this data is actually in CALC, but for the purposes of this analysis, we're going to throw out the following:\n",
    "\n",
    "* Rows with any columns that aren't filled out (i.e., whose values are `NaN`).\n",
    "* Rows with an invalid education field."
   ]
  },
  {
   "cell_type": "code",
   "execution_count": 3,
   "metadata": {},
   "outputs": [
    {
     "name": "stdout",
     "output_type": "stream",
     "text": [
      "Culled rows with incomplete/invalid data, leaving 48569 rows.\n"
     ]
    }
   ],
   "source": [
    "HIGH_SCHOOL = 'High School'\n",
    "ASSOCIATES = 'Associates'\n",
    "BACHELORS = 'Bachelors'\n",
    "MASTERS = 'Masters'\n",
    "PHD = 'Ph.D.'\n",
    "\n",
    "EDU_LEVELS = [HIGH_SCHOOL, ASSOCIATES, BACHELORS, MASTERS, PHD]\n",
    "\n",
    "def one_of(series, values):\n",
    "    \"\"\"\n",
    "    Returns a series of booleans that is True when the\n",
    "    corresponding item in the given series has a valid\n",
    "    value.\n",
    "    \"\"\"\n",
    "\n",
    "    result = False\n",
    "    for value in values:\n",
    "        result = result | (series == value)\n",
    "    return result\n",
    "\n",
    "hourly_prices.dropna(axis=0, how='any', inplace=True)\n",
    "\n",
    "hourly_prices = hourly_prices[one_of(hourly_prices['edu'], EDU_LEVELS)]\n",
    "\n",
    "print(f\"Culled rows with incomplete/invalid data, leaving {hourly_prices.shape[0]} rows.\")"
   ]
  },
  {
   "cell_type": "markdown",
   "metadata": {},
   "source": [
    "## Bin experience into buckets\n",
    "\n",
    "For reasons that will make more sense soon, we're going to define \"buckets\" of minimum experience:\n",
    "\n",
    "* Bucket 0: 0-4 minimum years of experience\n",
    "* Bucket 1: 5-9 minimum years of experience\n",
    "* Bucket 2: 10-14 minimum years of experience\n",
    "* Bucket 3: 15-19 minimum years of experience\n",
    "* Bucket 4: 20+ minimum years of experience"
   ]
  },
  {
   "cell_type": "code",
   "execution_count": 4,
   "metadata": {
    "collapsed": true
   },
   "outputs": [],
   "source": [
    "MAX_XP = 20.0\n",
    "\n",
    "XP_BUCKET_SIZE = 5\n",
    "\n",
    "NUM_XP_BUCKETS = int(MAX_XP / XP_BUCKET_SIZE + 1)\n",
    "\n",
    "hourly_prices['xp_bucket'] = (hourly_prices.minxp.clip(upper=MAX_XP) / XP_BUCKET_SIZE).astype(int)"
   ]
  },
  {
   "cell_type": "markdown",
   "metadata": {},
   "source": [
    "Let's see what our data looks like so far:"
   ]
  },
  {
   "cell_type": "code",
   "execution_count": 5,
   "metadata": {},
   "outputs": [
    {
     "data": {
      "text/html": [
       "<div>\n",
       "<style>\n",
       "    .dataframe thead tr:only-child th {\n",
       "        text-align: right;\n",
       "    }\n",
       "\n",
       "    .dataframe thead th {\n",
       "        text-align: left;\n",
       "    }\n",
       "\n",
       "    .dataframe tbody tr th {\n",
       "        vertical-align: top;\n",
       "    }\n",
       "</style>\n",
       "<table border=\"1\" class=\"dataframe\">\n",
       "  <thead>\n",
       "    <tr style=\"text-align: right;\">\n",
       "      <th></th>\n",
       "      <th>name</th>\n",
       "      <th>edu</th>\n",
       "      <th>minxp</th>\n",
       "      <th>company</th>\n",
       "      <th>contract</th>\n",
       "      <th>schedule</th>\n",
       "      <th>price</th>\n",
       "      <th>xp_bucket</th>\n",
       "    </tr>\n",
       "  </thead>\n",
       "  <tbody>\n",
       "    <tr>\n",
       "      <th>0</th>\n",
       "      <td>Project Manager</td>\n",
       "      <td>Bachelors</td>\n",
       "      <td>8.0</td>\n",
       "      <td>SSG-Advisors, LLC</td>\n",
       "      <td>GS-10F-0274S</td>\n",
       "      <td>MOBIS</td>\n",
       "      <td>1013.38</td>\n",
       "      <td>1</td>\n",
       "    </tr>\n",
       "    <tr>\n",
       "      <th>1</th>\n",
       "      <td>Program Coordinator</td>\n",
       "      <td>Bachelors</td>\n",
       "      <td>1.0</td>\n",
       "      <td>University Of Maryland University College</td>\n",
       "      <td>GS-10F-0357N</td>\n",
       "      <td>MOBIS</td>\n",
       "      <td>992.56</td>\n",
       "      <td>0</td>\n",
       "    </tr>\n",
       "    <tr>\n",
       "      <th>3</th>\n",
       "      <td>Administrative Support</td>\n",
       "      <td>Bachelors</td>\n",
       "      <td>1.0</td>\n",
       "      <td>University Of Maryland University College</td>\n",
       "      <td>GS-10F-0357N</td>\n",
       "      <td>MOBIS</td>\n",
       "      <td>981.44</td>\n",
       "      <td>0</td>\n",
       "    </tr>\n",
       "  </tbody>\n",
       "</table>\n",
       "</div>"
      ],
      "text/plain": [
       "                     name        edu  minxp  \\\n",
       "0         Project Manager  Bachelors    8.0   \n",
       "1     Program Coordinator  Bachelors    1.0   \n",
       "3  Administrative Support  Bachelors    1.0   \n",
       "\n",
       "                                     company      contract schedule    price  \\\n",
       "0                          SSG-Advisors, LLC  GS-10F-0274S    MOBIS  1013.38   \n",
       "1  University Of Maryland University College  GS-10F-0357N    MOBIS   992.56   \n",
       "3  University Of Maryland University College  GS-10F-0357N    MOBIS   981.44   \n",
       "\n",
       "   xp_bucket  \n",
       "0          1  \n",
       "1          0  \n",
       "3          0  "
      ]
     },
     "execution_count": 5,
     "metadata": {},
     "output_type": "execute_result"
    }
   ],
   "source": [
    "hourly_prices[:3]"
   ]
  },
  {
   "cell_type": "markdown",
   "metadata": {},
   "source": [
    "## Make it easy to slice and dice the data\n",
    "\n",
    "Here we'll add a `filtr` function (the name `filter` is taken) to make it easy to filter through the data any way we want."
   ]
  },
  {
   "cell_type": "code",
   "execution_count": 6,
   "metadata": {
    "collapsed": true
   },
   "outputs": [],
   "source": [
    "def filtr(edu=None, xp_bucket=None, minxp=None, schedule=None):\n",
    "    r = hourly_prices\n",
    "    if edu is not None:\n",
    "        r = r[r.edu == edu]\n",
    "        if r.empty:\n",
    "            raise ValueError(f\"invalid edu: {edu}\")\n",
    "    if xp_bucket is not None:\n",
    "        if xp_bucket < 0 or xp_bucket >= NUM_XP_BUCKETS:\n",
    "            raise ValueError(f\"invalid xp_bucket: {xp_bucket}\")\n",
    "        r = r[r.xp_bucket == xp_bucket]\n",
    "    if minxp is not None:\n",
    "        r = r[r.minxp >= minxp]\n",
    "    if schedule is not None:\n",
    "        r = r[r.schedule == schedule]\n",
    "        if r.empty:\n",
    "            raise ValueError(f\"invalid schedule: {schedule}\")\n",
    "    return r\n"
   ]
  },
  {
   "cell_type": "markdown",
   "metadata": {},
   "source": [
    "## Transform price data\n",
    "\n",
    "Our existing price distribution is kind of lopsided because most labor categories have low prices.  As per Andrew Ng's suggestion in his [lecture on choosing what features to use](https://www.coursera.org/learn/machine-learning/lecture/LSpXm/choosing-what-features-to-use), we'll transform the price data to have a more normal distribution."
   ]
  },
  {
   "cell_type": "code",
   "execution_count": 7,
   "metadata": {},
   "outputs": [
    {
     "data": {
      "text/plain": [
       "<matplotlib.axes._subplots.AxesSubplot at 0x1096c2438>"
      ]
     },
     "execution_count": 7,
     "metadata": {},
     "output_type": "execute_result"
    },
    {
     "data": {
      "image/png": "[encoded data removed]",
      "text/plain": [
       "<matplotlib.figure.Figure at 0x10975cc50>"
      ]
     },
     "metadata": {},
     "output_type": "display_data"
    }
   ],
   "source": [
    "sns.distplot(hourly_prices.price, kde=False)"
   ]
  },
  {
   "cell_type": "code",
   "execution_count": 8,
   "metadata": {},
   "outputs": [
    {
     "data": {
      "text/plain": [
       "<matplotlib.axes._subplots.AxesSubplot at 0x109619048>"
      ]
     },
     "execution_count": 8,
     "metadata": {},
     "output_type": "execute_result"
    },
    {
     "data": {
      "image/png": "[encoded data removed]",
      "text/plain": [
       "<matplotlib.figure.Figure at 0x1093d5358>"
      ]
     },
     "metadata": {},
     "output_type": "display_data"
    }
   ],
   "source": [
    "hourly_prices['log_price'] = np.log(hourly_prices.price)\n",
    "\n",
    "sns.distplot(hourly_prices.log_price, kde=False)"
   ]
  },
  {
   "cell_type": "markdown",
   "metadata": {},
   "source": [
    "## Define density estimation parameters\n",
    "\n",
    "Because prices are clearly influenced by the level of education and number of years of experience, we're going to calculate our mean and variance based on each education level / experience bucket combination. Whether something is an anomaly will then depend on what its price is relative to the particular education level / experience bucket combination it's in.\n",
    "\n",
    "We'll do this using a pandas [MultiIndex](https://pandas.pydata.org/pandas-docs/stable/advanced.html)."
   ]
  },
  {
   "cell_type": "code",
   "execution_count": 9,
   "metadata": {
    "collapsed": true
   },
   "outputs": [],
   "source": [
    "edu_xp_index = pd.MultiIndex.from_product([EDU_LEVELS, range(NUM_XP_BUCKETS)], names=['edu', 'xp_bucket'])"
   ]
  },
  {
   "cell_type": "code",
   "execution_count": 10,
   "metadata": {
    "collapsed": true
   },
   "outputs": [],
   "source": [
    "def edu_xp_agg(func):\n",
    "    return list(edu_xp_index.map(lambda x: filtr(edu=x[0], xp_bucket=x[1]).log_price.agg(func)))"
   ]
  },
  {
   "cell_type": "code",
   "execution_count": 11,
   "metadata": {
    "collapsed": true
   },
   "outputs": [],
   "source": [
    "edu_xp_aggs = pd.DataFrame(\n",
    "    list(zip(edu_xp_agg('mean'), edu_xp_agg('std'))),\n",
    "    index=edu_xp_index, columns=['mean', 'std']\n",
    ")"
   ]
  },
  {
   "cell_type": "markdown",
   "metadata": {},
   "source": [
    "Here's what our `edu_xp_aggs` DataFrame looks like now.  Note that only the shape is really important: the numbers won't actually mean much, since they reflect the mean/variance of our transformed prices. "
   ]
  },
  {
   "cell_type": "code",
   "execution_count": 12,
   "metadata": {},
   "outputs": [
    {
     "data": {
      "text/html": [
       "<div>\n",
       "<style>\n",
       "    .dataframe thead tr:only-child th {\n",
       "        text-align: right;\n",
       "    }\n",
       "\n",
       "    .dataframe thead th {\n",
       "        text-align: left;\n",
       "    }\n",
       "\n",
       "    .dataframe tbody tr th {\n",
       "        vertical-align: top;\n",
       "    }\n",
       "</style>\n",
       "<table border=\"1\" class=\"dataframe\">\n",
       "  <thead>\n",
       "    <tr style=\"text-align: right;\">\n",
       "      <th></th>\n",
       "      <th></th>\n",
       "      <th>mean</th>\n",
       "      <th>std</th>\n",
       "    </tr>\n",
       "    <tr>\n",
       "      <th>edu</th>\n",
       "      <th>xp_bucket</th>\n",
       "      <th></th>\n",
       "      <th></th>\n",
       "    </tr>\n",
       "  </thead>\n",
       "  <tbody>\n",
       "    <tr>\n",
       "      <th rowspan=\"5\" valign=\"top\">High School</th>\n",
       "      <th>0</th>\n",
       "      <td>3.866920</td>\n",
       "      <td>0.354101</td>\n",
       "    </tr>\n",
       "    <tr>\n",
       "      <th>1</th>\n",
       "      <td>4.215916</td>\n",
       "      <td>0.375981</td>\n",
       "    </tr>\n",
       "    <tr>\n",
       "      <th>2</th>\n",
       "      <td>4.494704</td>\n",
       "      <td>0.394335</td>\n",
       "    </tr>\n",
       "    <tr>\n",
       "      <th>3</th>\n",
       "      <td>4.741732</td>\n",
       "      <td>0.414377</td>\n",
       "    </tr>\n",
       "    <tr>\n",
       "      <th>4</th>\n",
       "      <td>4.815409</td>\n",
       "      <td>0.360243</td>\n",
       "    </tr>\n",
       "    <tr>\n",
       "      <th rowspan=\"5\" valign=\"top\">Associates</th>\n",
       "      <th>0</th>\n",
       "      <td>4.105952</td>\n",
       "      <td>0.358606</td>\n",
       "    </tr>\n",
       "    <tr>\n",
       "      <th>1</th>\n",
       "      <td>4.327915</td>\n",
       "      <td>0.368082</td>\n",
       "    </tr>\n",
       "    <tr>\n",
       "      <th>2</th>\n",
       "      <td>4.634396</td>\n",
       "      <td>0.402192</td>\n",
       "    </tr>\n",
       "    <tr>\n",
       "      <th>3</th>\n",
       "      <td>4.781884</td>\n",
       "      <td>0.354746</td>\n",
       "    </tr>\n",
       "    <tr>\n",
       "      <th>4</th>\n",
       "      <td>4.943171</td>\n",
       "      <td>0.398632</td>\n",
       "    </tr>\n",
       "  </tbody>\n",
       "</table>\n",
       "</div>"
      ],
      "text/plain": [
       "                           mean       std\n",
       "edu         xp_bucket                    \n",
       "High School 0          3.866920  0.354101\n",
       "            1          4.215916  0.375981\n",
       "            2          4.494704  0.394335\n",
       "            3          4.741732  0.414377\n",
       "            4          4.815409  0.360243\n",
       "Associates  0          4.105952  0.358606\n",
       "            1          4.327915  0.368082\n",
       "            2          4.634396  0.402192\n",
       "            3          4.781884  0.354746\n",
       "            4          4.943171  0.398632"
      ]
     },
     "execution_count": 12,
     "metadata": {},
     "output_type": "execute_result"
    }
   ],
   "source": [
    "edu_xp_aggs[:10]"
   ]
  },
  {
   "cell_type": "markdown",
   "metadata": {},
   "source": [
    "## Define Gaussian primitives\n",
    "\n",
    "This is taken from Ng's [lecture on the Gaussian Distribution](https://www.coursera.org/learn/machine-learning/lecture/ZYAyC/gaussian-distribution)."
   ]
  },
  {
   "cell_type": "code",
   "execution_count": 13,
   "metadata": {
    "collapsed": true
   },
   "outputs": [],
   "source": [
    "def gaussian_prob(value, std, mean):\n",
    "    return (1 / ((np.sqrt(2 * np.pi)) * std)) * np.exp(-np.square(value - mean) / (2 * np.square(std)))\n",
    "\n",
    "def plot_gaussian(std, mean, start=-1, stop=1, step=0.1):\n",
    "    x = np.arange(start, stop + step, step)\n",
    "    return plt.plot(x, gaussian_prob(x, std, mean))"
   ]
  },
  {
   "cell_type": "markdown",
   "metadata": {},
   "source": [
    "Just to make sure our gaussian works, let's draw it."
   ]
  },
  {
   "cell_type": "code",
   "execution_count": 14,
   "metadata": {},
   "outputs": [
    {
     "data": {
      "text/plain": [
       "[<matplotlib.lines.Line2D at 0x10d40c5c0>]"
      ]
     },
     "execution_count": 14,
     "metadata": {},
     "output_type": "execute_result"
    },
    {
     "data": {
      "image/png": "[encoded data removed]",
      "text/plain": [
       "<matplotlib.figure.Figure at 0x10d2f02b0>"
      ]
     },
     "metadata": {},
     "output_type": "display_data"
    }
   ],
   "source": [
    "plot_gaussian(0.5, 0)"
   ]
  },
  {
   "cell_type": "markdown",
   "metadata": {},
   "source": [
    "## Find anomalous prices\n",
    "\n",
    "We'll combine our density estimation parameters with our hourly price data via [DataFrame.merge](https://pandas.pydata.org/pandas-docs/stable/generated/pandas.DataFrame.merge.html) and use that to get probabilities for every price, as per the [lecture on the density estimation algorithm](https://www.coursera.org/learn/machine-learning/lecture/C8IJp/algorithm)."
   ]
  },
  {
   "cell_type": "code",
   "execution_count": 15,
   "metadata": {
    "collapsed": true
   },
   "outputs": [],
   "source": [
    "def probabilities():\n",
    "    merged = hourly_prices.merge(edu_xp_aggs, left_on=['edu', 'xp_bucket'], right_index=True, how='left')\n",
    "    return gaussian_prob(hourly_prices.log_price, merged['std'], merged['mean'])"
   ]
  },
  {
   "cell_type": "code",
   "execution_count": 16,
   "metadata": {},
   "outputs": [
    {
     "name": "stdout",
     "output_type": "stream",
     "text": [
      "Found 243 potential anomalies.\n"
     ]
    },
    {
     "data": {
      "text/html": [
       "<div>\n",
       "<style>\n",
       "    .dataframe thead tr:only-child th {\n",
       "        text-align: right;\n",
       "    }\n",
       "\n",
       "    .dataframe thead th {\n",
       "        text-align: left;\n",
       "    }\n",
       "\n",
       "    .dataframe tbody tr th {\n",
       "        vertical-align: top;\n",
       "    }\n",
       "</style>\n",
       "<table border=\"1\" class=\"dataframe\">\n",
       "  <thead>\n",
       "    <tr style=\"text-align: right;\">\n",
       "      <th></th>\n",
       "      <th>name</th>\n",
       "      <th>edu</th>\n",
       "      <th>minxp</th>\n",
       "      <th>company</th>\n",
       "      <th>contract</th>\n",
       "      <th>schedule</th>\n",
       "      <th>price</th>\n",
       "      <th>xp_bucket</th>\n",
       "      <th>log_price</th>\n",
       "      <th>p</th>\n",
       "    </tr>\n",
       "  </thead>\n",
       "  <tbody>\n",
       "    <tr>\n",
       "      <th>46</th>\n",
       "      <td>Teleprompter Operator</td>\n",
       "      <td>High School</td>\n",
       "      <td>3.0</td>\n",
       "      <td>Digital Outpost, Inc.</td>\n",
       "      <td>GS-23F-0143S</td>\n",
       "      <td>AIMS</td>\n",
       "      <td>700.00</td>\n",
       "      <td>0</td>\n",
       "      <td>6.551080</td>\n",
       "      <td>3.754533e-13</td>\n",
       "    </tr>\n",
       "    <tr>\n",
       "      <th>53</th>\n",
       "      <td>Audio-Sound Recordist</td>\n",
       "      <td>High School</td>\n",
       "      <td>3.0</td>\n",
       "      <td>Ambient Light, LLC</td>\n",
       "      <td>GS-00F-212DA</td>\n",
       "      <td>Consolidated</td>\n",
       "      <td>659.10</td>\n",
       "      <td>0</td>\n",
       "      <td>6.490875</td>\n",
       "      <td>1.342768e-12</td>\n",
       "    </tr>\n",
       "    <tr>\n",
       "      <th>13</th>\n",
       "      <td>Producer</td>\n",
       "      <td>High School</td>\n",
       "      <td>7.0</td>\n",
       "      <td>Ambient Light, LLC</td>\n",
       "      <td>GS-00F-212DA</td>\n",
       "      <td>Consolidated</td>\n",
       "      <td>941.58</td>\n",
       "      <td>1</td>\n",
       "      <td>6.847559</td>\n",
       "      <td>2.439674e-11</td>\n",
       "    </tr>\n",
       "    <tr>\n",
       "      <th>14</th>\n",
       "      <td>Video Editor</td>\n",
       "      <td>High School</td>\n",
       "      <td>7.0</td>\n",
       "      <td>Ambient Light, LLC</td>\n",
       "      <td>GS-00F-212DA</td>\n",
       "      <td>Consolidated</td>\n",
       "      <td>910.19</td>\n",
       "      <td>1</td>\n",
       "      <td>6.813653</td>\n",
       "      <td>4.567676e-11</td>\n",
       "    </tr>\n",
       "    <tr>\n",
       "      <th>1</th>\n",
       "      <td>Program Coordinator</td>\n",
       "      <td>Bachelors</td>\n",
       "      <td>1.0</td>\n",
       "      <td>University Of Maryland University College</td>\n",
       "      <td>GS-10F-0357N</td>\n",
       "      <td>MOBIS</td>\n",
       "      <td>992.56</td>\n",
       "      <td>0</td>\n",
       "      <td>6.900287</td>\n",
       "      <td>8.653245e-11</td>\n",
       "    </tr>\n",
       "    <tr>\n",
       "      <th>3</th>\n",
       "      <td>Administrative Support</td>\n",
       "      <td>Bachelors</td>\n",
       "      <td>1.0</td>\n",
       "      <td>University Of Maryland University College</td>\n",
       "      <td>GS-10F-0357N</td>\n",
       "      <td>MOBIS</td>\n",
       "      <td>981.44</td>\n",
       "      <td>0</td>\n",
       "      <td>6.889021</td>\n",
       "      <td>1.064961e-10</td>\n",
       "    </tr>\n",
       "    <tr>\n",
       "      <th>15</th>\n",
       "      <td>Consultant</td>\n",
       "      <td>Bachelors</td>\n",
       "      <td>2.0</td>\n",
       "      <td>Dalberg Consulting-U.S., LLC</td>\n",
       "      <td>GS-10F-0188V</td>\n",
       "      <td>MOBIS</td>\n",
       "      <td>906.80</td>\n",
       "      <td>0</td>\n",
       "      <td>6.809922</td>\n",
       "      <td>4.455506e-10</td>\n",
       "    </tr>\n",
       "    <tr>\n",
       "      <th>26</th>\n",
       "      <td>Director</td>\n",
       "      <td>High School</td>\n",
       "      <td>7.0</td>\n",
       "      <td>Ambient Light, LLC</td>\n",
       "      <td>GS-00F-212DA</td>\n",
       "      <td>Consolidated</td>\n",
       "      <td>793.95</td>\n",
       "      <td>1</td>\n",
       "      <td>6.677020</td>\n",
       "      <td>5.265774e-10</td>\n",
       "    </tr>\n",
       "    <tr>\n",
       "      <th>148</th>\n",
       "      <td>Director Photography</td>\n",
       "      <td>High School</td>\n",
       "      <td>1.0</td>\n",
       "      <td>Shatterglass Studios, LLC</td>\n",
       "      <td>GS-00F-199DA</td>\n",
       "      <td>Consolidated</td>\n",
       "      <td>478.59</td>\n",
       "      <td>0</td>\n",
       "      <td>6.170844</td>\n",
       "      <td>7.231016e-10</td>\n",
       "    </tr>\n",
       "    <tr>\n",
       "      <th>149</th>\n",
       "      <td>Production Manager</td>\n",
       "      <td>High School</td>\n",
       "      <td>1.0</td>\n",
       "      <td>Shatterglass Studios, LLC</td>\n",
       "      <td>GS-00F-199DA</td>\n",
       "      <td>Consolidated</td>\n",
       "      <td>478.59</td>\n",
       "      <td>0</td>\n",
       "      <td>6.170844</td>\n",
       "      <td>7.231016e-10</td>\n",
       "    </tr>\n",
       "  </tbody>\n",
       "</table>\n",
       "</div>"
      ],
      "text/plain": [
       "                       name          edu  minxp  \\\n",
       "46    Teleprompter Operator  High School    3.0   \n",
       "53    Audio-Sound Recordist  High School    3.0   \n",
       "13                 Producer  High School    7.0   \n",
       "14             Video Editor  High School    7.0   \n",
       "1       Program Coordinator    Bachelors    1.0   \n",
       "3    Administrative Support    Bachelors    1.0   \n",
       "15               Consultant    Bachelors    2.0   \n",
       "26                 Director  High School    7.0   \n",
       "148    Director Photography  High School    1.0   \n",
       "149      Production Manager  High School    1.0   \n",
       "\n",
       "                                       company      contract      schedule  \\\n",
       "46                       Digital Outpost, Inc.  GS-23F-0143S          AIMS   \n",
       "53                          Ambient Light, LLC  GS-00F-212DA  Consolidated   \n",
       "13                          Ambient Light, LLC  GS-00F-212DA  Consolidated   \n",
       "14                          Ambient Light, LLC  GS-00F-212DA  Consolidated   \n",
       "1    University Of Maryland University College  GS-10F-0357N         MOBIS   \n",
       "3    University Of Maryland University College  GS-10F-0357N         MOBIS   \n",
       "15                Dalberg Consulting-U.S., LLC  GS-10F-0188V         MOBIS   \n",
       "26                          Ambient Light, LLC  GS-00F-212DA  Consolidated   \n",
       "148                  Shatterglass Studios, LLC  GS-00F-199DA  Consolidated   \n",
       "149                  Shatterglass Studios, LLC  GS-00F-199DA  Consolidated   \n",
       "\n",
       "      price  xp_bucket  log_price             p  \n",
       "46   700.00          0   6.551080  3.754533e-13  \n",
       "53   659.10          0   6.490875  1.342768e-12  \n",
       "13   941.58          1   6.847559  2.439674e-11  \n",
       "14   910.19          1   6.813653  4.567676e-11  \n",
       "1    992.56          0   6.900287  8.653245e-11  \n",
       "3    981.44          0   6.889021  1.064961e-10  \n",
       "15   906.80          0   6.809922  4.455506e-10  \n",
       "26   793.95          1   6.677020  5.265774e-10  \n",
       "148  478.59          0   6.170844  7.231016e-10  \n",
       "149  478.59          0   6.170844  7.231016e-10  "
      ]
     },
     "execution_count": 16,
     "metadata": {},
     "output_type": "execute_result"
    }
   ],
   "source": [
    "epsilon = 0.01\n",
    "\n",
    "hourly_prices['p'] = probabilities()\n",
    "\n",
    "anomalies = hourly_prices[hourly_prices['p'] < epsilon].sort_values(by=['p'])\n",
    "\n",
    "print(f\"Found {anomalies.shape[0]} potential anomalies.\")\n",
    "\n",
    "# Show the top ten most probable anomalies.\n",
    "anomalies[:10]"
   ]
  },
  {
   "cell_type": "code",
   "execution_count": null,
   "metadata": {
    "collapsed": true
   },
   "outputs": [],
   "source": []
  }
 ],
 "metadata": {
  "kernelspec": {
   "display_name": "Python 3",
   "language": "python",
   "name": "python3"
  },
  "language_info": {
   "codemirror_mode": {
    "name": "ipython",
    "version": 3
   },
   "file_extension": ".py",
   "mimetype": "text/x-python",
   "name": "python",
   "nbconvert_exporter": "python",
   "pygments_lexer": "ipython3",
   "version": "3.6.3"
  }
 },
 "nbformat": 4,
 "nbformat_minor": 2
}
