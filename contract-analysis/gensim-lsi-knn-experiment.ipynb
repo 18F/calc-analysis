{
 "cells": [
  {
   "cell_type": "markdown",
   "metadata": {},
   "source": [
    "## Using latent semantic indexing on labor categories\n",
    "\n",
    "This is an attempt to use gensim's [Latent Semantic Indexing](https://radimrehurek.com/gensim/models/lsimodel.html) functionality with contract data, providing us with a way to find contract rows whose labor categories are similar to one we're looking at. Then we'll combine that data with some other dimensions from the contract rows, like price and minimum experience, and finally use a [K Nearest Neighbors](https://en.wikipedia.org/wiki/K-nearest_neighbors_algorithm) algorithm to help us find comparables for any given criteria.\n",
    "\n",
    "Code is largely based off the [Making an Impact with Python Natural Language Processing Tools](https://www.youtube.com/watch?v=jSdkFSg9oW8) Pycon 2016 tutorial, specifically its [LSI with Gensim](https://github.com/totalgood/twip/blob/master/docs/notebooks/09%20Features%20--%20LSI%20with%20Gensim.ipynb) notebook."
   ]
  },
  {
   "cell_type": "code",
   "execution_count": 1,
   "metadata": {
    "collapsed": true
   },
   "outputs": [],
   "source": [
    "import pandas as pd\n",
    "\n",
    "rows = pd.read_csv('../data/hourly_prices.csv', index_col=False, thousands=',')"
   ]
  },
  {
   "cell_type": "code",
   "execution_count": 2,
   "metadata": {
    "collapsed": false
   },
   "outputs": [
    {
     "name": "stderr",
     "output_type": "stream",
     "text": [
      "/Users/atulvarma/Documents/explorations/calc-metrics-fun/venv/lib/python3.5/site-packages/gensim/utils.py:1015: UserWarning: Pattern library is not installed, lemmatization won't be available.\n",
      "  warnings.warn(\"Pattern library is not installed, lemmatization won't be available.\")\n"
     ]
    }
   ],
   "source": [
    "from gensim.models import LsiModel, TfidfModel\n",
    "from gensim.corpora import Dictionary"
   ]
  },
  {
   "cell_type": "markdown",
   "metadata": {},
   "source": [
    "We'll build a vocabulary off the labor categories in the contract rows, and then build a [term frequency–inverse document frequency](https://en.wikipedia.org/wiki/Tf%E2%80%93idf) matrix off it."
   ]
  },
  {
   "cell_type": "code",
   "execution_count": 3,
   "metadata": {
    "collapsed": false
   },
   "outputs": [],
   "source": [
    "vocab = Dictionary(rows['Labor Category'].str.split())"
   ]
  },
  {
   "cell_type": "code",
   "execution_count": 4,
   "metadata": {
    "collapsed": false
   },
   "outputs": [],
   "source": [
    "tfidf = TfidfModel(id2word=vocab, dictionary=vocab)"
   ]
  },
  {
   "cell_type": "code",
   "execution_count": 5,
   "metadata": {
    "collapsed": false
   },
   "outputs": [],
   "source": [
    "bows = rows['Labor Category'].apply(lambda x: vocab.doc2bow(x.split()))"
   ]
  },
  {
   "cell_type": "code",
   "execution_count": 6,
   "metadata": {
    "collapsed": false
   },
   "outputs": [
    {
     "data": {
      "text/plain": [
       "650"
      ]
     },
     "execution_count": 6,
     "metadata": {},
     "output_type": "execute_result"
    }
   ],
   "source": [
    "vocab.token2id['engineer']"
   ]
  },
  {
   "cell_type": "code",
   "execution_count": 7,
   "metadata": {
    "collapsed": false
   },
   "outputs": [
    {
     "data": {
      "text/plain": [
       "'Manager'"
      ]
     },
     "execution_count": 7,
     "metadata": {},
     "output_type": "execute_result"
    }
   ],
   "source": [
    "vocab[0]"
   ]
  },
  {
   "cell_type": "code",
   "execution_count": 8,
   "metadata": {
    "collapsed": false
   },
   "outputs": [
    {
     "data": {
      "text/plain": [
       "{'Manager': 0.65, 'Project': 0.76}"
      ]
     },
     "execution_count": 8,
     "metadata": {},
     "output_type": "execute_result"
    }
   ],
   "source": [
    "dict([(vocab[i], round(freq, 2)) for i, freq in tfidf[bows[0]]])"
   ]
  },
  {
   "cell_type": "markdown",
   "metadata": {},
   "source": [
    "Here we'll build a LSI model that places each labor category into a 5-dimensional vector."
   ]
  },
  {
   "cell_type": "code",
   "execution_count": 9,
   "metadata": {
    "collapsed": true
   },
   "outputs": [],
   "source": [
    "lsi = LsiModel(tfidf[bows], num_topics=5, id2word=vocab, extra_samples=100, power_iters=2)"
   ]
  },
  {
   "cell_type": "code",
   "execution_count": 10,
   "metadata": {
    "collapsed": false
   },
   "outputs": [
    {
     "data": {
      "text/plain": [
       "6944"
      ]
     },
     "execution_count": 10,
     "metadata": {},
     "output_type": "execute_result"
    }
   ],
   "source": [
    "len(vocab)"
   ]
  },
  {
   "cell_type": "code",
   "execution_count": 11,
   "metadata": {
    "collapsed": false
   },
   "outputs": [],
   "source": [
    "topics = lsi[bows]\n",
    "df_topics = pd.DataFrame([dict(d) for d in topics], index=bows.index, columns=range(5))"
   ]
  },
  {
   "cell_type": "code",
   "execution_count": 12,
   "metadata": {
    "collapsed": false
   },
   "outputs": [
    {
     "data": {
      "text/plain": [
       "'-0.511*\"Consultant\" + -0.333*\"Analyst\" + 0.329*\"Manager\" + 0.272*\"Project\" + -0.255*\"Senior\"'"
      ]
     },
     "execution_count": 12,
     "metadata": {},
     "output_type": "execute_result"
    }
   ],
   "source": [
    "lsi.print_topic(1, topn=5)"
   ]
  },
  {
   "cell_type": "markdown",
   "metadata": {},
   "source": [
    "This part is a bit weird: we're extending our vectors with information about the price and minimum experience of each contract row, semi-normalizing the data so that they don't \"overwhelm\" the importance of the LSI dimensions when calculating distances between points.\n",
    "\n",
    "I have no idea if this is actually legit."
   ]
  },
  {
   "cell_type": "code",
   "execution_count": 13,
   "metadata": {
    "collapsed": false
   },
   "outputs": [],
   "source": [
    "PRICE_COEFF = 1 / 500.0\n",
    "XP_COEFF = 1 / 10.0\n",
    "\n",
    "df_topics['Price'] = (rows['Year 1/base'] * PRICE_COEFF).fillna(0)\n",
    "df_topics['Experience'] = (rows['MinExpAct'] * XP_COEFF).fillna(0)"
   ]
  },
  {
   "cell_type": "markdown",
   "metadata": {},
   "source": [
    "Now we'll use a [K Nearest Neighbors](https://en.wikipedia.org/wiki/K-nearest_neighbors_algorithm) algorithm to make it easy for us to find vectors that are nearby."
   ]
  },
  {
   "cell_type": "code",
   "execution_count": 14,
   "metadata": {
    "collapsed": false
   },
   "outputs": [
    {
     "data": {
      "text/plain": [
       "NearestNeighbors(algorithm='auto', leaf_size=30, metric='minkowski',\n",
       "         metric_params=None, n_jobs=1, n_neighbors=5, p=2, radius=1.0)"
      ]
     },
     "execution_count": 14,
     "metadata": {},
     "output_type": "execute_result"
    }
   ],
   "source": [
    "from sklearn.neighbors import NearestNeighbors\n",
    "\n",
    "df_topics = df_topics.fillna(0)\n",
    "neigh = NearestNeighbors(n_neighbors=5)\n",
    "neigh.fit(df_topics)"
   ]
  },
  {
   "cell_type": "code",
   "execution_count": 15,
   "metadata": {
    "collapsed": false
   },
   "outputs": [
    {
     "name": "stderr",
     "output_type": "stream",
     "text": [
      "/Users/atulvarma/Documents/explorations/calc-metrics-fun/venv/lib/python3.5/site-packages/sklearn/utils/validation.py:395: DeprecationWarning: Passing 1d arrays as data is deprecated in 0.17 and will raise ValueError in 0.19. Reshape your data either using X.reshape(-1, 1) if your data has a single feature or X.reshape(1, -1) if it contains a single sample.\n",
      "  DeprecationWarning)\n"
     ]
    },
    {
     "data": {
      "text/plain": [
       "array([[  0,  17,  18, 104, 256]])"
      ]
     },
     "execution_count": 15,
     "metadata": {},
     "output_type": "execute_result"
    }
   ],
   "source": [
    "neigh.kneighbors(df_topics.ix[0], return_distance=False)"
   ]
  },
  {
   "cell_type": "markdown",
   "metadata": {},
   "source": [
    "Here's where things potentially become useful: we'll create a function that takes a labor category, price, and experience, and returns a list of comparables from our vector space."
   ]
  },
  {
   "cell_type": "code",
   "execution_count": 16,
   "metadata": {
    "collapsed": false
   },
   "outputs": [
    {
     "name": "stderr",
     "output_type": "stream",
     "text": [
      "/Users/atulvarma/Documents/explorations/calc-metrics-fun/venv/lib/python3.5/site-packages/sklearn/utils/validation.py:395: DeprecationWarning: Passing 1d arrays as data is deprecated in 0.17 and will raise ValueError in 0.19. Reshape your data either using X.reshape(-1, 1) if your data has a single feature or X.reshape(1, -1) if it contains a single sample.\n",
      "  DeprecationWarning)\n"
     ]
    },
    {
     "data": {
      "text/html": [
       "<div>\n",
       "<table border=\"1\" class=\"dataframe\">\n",
       "  <thead>\n",
       "    <tr style=\"text-align: right;\">\n",
       "      <th></th>\n",
       "      <th>Labor Category</th>\n",
       "      <th>Year 1/base</th>\n",
       "      <th>Year 2</th>\n",
       "      <th>Year 3</th>\n",
       "      <th>Year 4</th>\n",
       "      <th>Year 5</th>\n",
       "      <th>Education</th>\n",
       "      <th>MinExpAct</th>\n",
       "      <th>Bus Size</th>\n",
       "      <th>Location</th>\n",
       "      <th>COMPANY NAME</th>\n",
       "      <th>CONTRACT .</th>\n",
       "      <th>Schedule</th>\n",
       "      <th>SIN NUMBER</th>\n",
       "      <th>Contract Year</th>\n",
       "      <th>Begin Date</th>\n",
       "      <th>End Date</th>\n",
       "      <th>CurrentYearPricing</th>\n",
       "    </tr>\n",
       "  </thead>\n",
       "  <tbody>\n",
       "    <tr>\n",
       "      <th>44548</th>\n",
       "      <td>Project Director 3/Field Director 3</td>\n",
       "      <td>55.68</td>\n",
       "      <td>55.68</td>\n",
       "      <td>55.68</td>\n",
       "      <td>55.68</td>\n",
       "      <td>55.68</td>\n",
       "      <td>Bachelors</td>\n",
       "      <td>6.0</td>\n",
       "      <td>S</td>\n",
       "      <td>Both</td>\n",
       "      <td>Desert Archaeology, Inc�</td>\n",
       "      <td>GS-10F-161AA</td>\n",
       "      <td>Environmental</td>\n",
       "      <td>899-7</td>\n",
       "      <td>4</td>\n",
       "      <td>5/3/2013</td>\n",
       "      <td>5/2/2018</td>\n",
       "      <td>55.68</td>\n",
       "    </tr>\n",
       "    <tr>\n",
       "      <th>44547</th>\n",
       "      <td>Project Director 3/Field Director 3</td>\n",
       "      <td>55.68</td>\n",
       "      <td>55.68</td>\n",
       "      <td>55.68</td>\n",
       "      <td>55.68</td>\n",
       "      <td>55.68</td>\n",
       "      <td>Bachelors</td>\n",
       "      <td>6.0</td>\n",
       "      <td>S</td>\n",
       "      <td>Both</td>\n",
       "      <td>Desert Archaeology, Inc�</td>\n",
       "      <td>GS-10F-161AA</td>\n",
       "      <td>Environmental</td>\n",
       "      <td>899-1</td>\n",
       "      <td>4</td>\n",
       "      <td>5/3/2013</td>\n",
       "      <td>5/2/2018</td>\n",
       "      <td>55.68</td>\n",
       "    </tr>\n",
       "    <tr>\n",
       "      <th>24335</th>\n",
       "      <td>Project Director 1</td>\n",
       "      <td>101.15</td>\n",
       "      <td>103.27</td>\n",
       "      <td>105.44</td>\n",
       "      <td>107.66</td>\n",
       "      <td>109.92</td>\n",
       "      <td>Bachelors</td>\n",
       "      <td>5.0</td>\n",
       "      <td>O</td>\n",
       "      <td>Both</td>\n",
       "      <td>National Alliance for Hispanic Health, The</td>\n",
       "      <td>GS-10F-088CA</td>\n",
       "      <td>MOBIS</td>\n",
       "      <td>874-1</td>\n",
       "      <td>2</td>\n",
       "      <td>5/13/2015</td>\n",
       "      <td>5/12/2020</td>\n",
       "      <td>103.27</td>\n",
       "    </tr>\n",
       "    <tr>\n",
       "      <th>31639</th>\n",
       "      <td>Project Director</td>\n",
       "      <td>83.75</td>\n",
       "      <td>83.75</td>\n",
       "      <td>83.75</td>\n",
       "      <td>83.75</td>\n",
       "      <td>83.75</td>\n",
       "      <td>Bachelors</td>\n",
       "      <td>5.0</td>\n",
       "      <td>S</td>\n",
       "      <td>Contractor Site</td>\n",
       "      <td>Advocates For Human Potential, Inc.</td>\n",
       "      <td>GS-10F-0148P</td>\n",
       "      <td>MOBIS</td>\n",
       "      <td>874-1, 874-2, 874-3, 874-7</td>\n",
       "      <td>3</td>\n",
       "      <td>1/16/2004</td>\n",
       "      <td>1/15/2019</td>\n",
       "      <td>83.75</td>\n",
       "    </tr>\n",
       "    <tr>\n",
       "      <th>31638</th>\n",
       "      <td>Project Director</td>\n",
       "      <td>83.75</td>\n",
       "      <td>83.75</td>\n",
       "      <td>83.75</td>\n",
       "      <td>83.75</td>\n",
       "      <td>83.75</td>\n",
       "      <td>Bachelors</td>\n",
       "      <td>5.0</td>\n",
       "      <td>S</td>\n",
       "      <td>Both</td>\n",
       "      <td>Advocates For Human Potential, Inc.</td>\n",
       "      <td>GS-10F-0148P</td>\n",
       "      <td>MOBIS</td>\n",
       "      <td>874-1</td>\n",
       "      <td>3</td>\n",
       "      <td>1/16/2004</td>\n",
       "      <td>1/15/2019</td>\n",
       "      <td>83.75</td>\n",
       "    </tr>\n",
       "  </tbody>\n",
       "</table>\n",
       "</div>"
      ],
      "text/plain": [
       "                            Labor Category  Year 1/base  Year 2  Year 3  \\\n",
       "44548  Project Director 3/Field Director 3        55.68   55.68   55.68   \n",
       "44547  Project Director 3/Field Director 3        55.68   55.68   55.68   \n",
       "24335                   Project Director 1       101.15  103.27  105.44   \n",
       "31639                     Project Director        83.75   83.75   83.75   \n",
       "31638                     Project Director        83.75   83.75   83.75   \n",
       "\n",
       "       Year 4  Year 5  Education  MinExpAct Bus Size         Location  \\\n",
       "44548   55.68   55.68  Bachelors        6.0        S             Both   \n",
       "44547   55.68   55.68  Bachelors        6.0        S             Both   \n",
       "24335  107.66  109.92  Bachelors        5.0        O             Both   \n",
       "31639   83.75   83.75  Bachelors        5.0        S  Contractor Site   \n",
       "31638   83.75   83.75  Bachelors        5.0        S             Both   \n",
       "\n",
       "                                     COMPANY NAME    CONTRACT .  \\\n",
       "44548                    Desert Archaeology, Inc�  GS-10F-161AA   \n",
       "44547                    Desert Archaeology, Inc�  GS-10F-161AA   \n",
       "24335  National Alliance for Hispanic Health, The  GS-10F-088CA   \n",
       "31639         Advocates For Human Potential, Inc.  GS-10F-0148P   \n",
       "31638         Advocates For Human Potential, Inc.  GS-10F-0148P   \n",
       "\n",
       "            Schedule                  SIN NUMBER  Contract Year Begin Date  \\\n",
       "44548  Environmental                       899-7              4   5/3/2013   \n",
       "44547  Environmental                       899-1              4   5/3/2013   \n",
       "24335          MOBIS                       874-1              2  5/13/2015   \n",
       "31639          MOBIS  874-1, 874-2, 874-3, 874-7              3  1/16/2004   \n",
       "31638          MOBIS                       874-1              3  1/16/2004   \n",
       "\n",
       "        End Date  CurrentYearPricing  \n",
       "44548   5/2/2018               55.68  \n",
       "44547   5/2/2018               55.68  \n",
       "24335  5/12/2020              103.27  \n",
       "31639  1/15/2019               83.75  \n",
       "31638  1/15/2019               83.75  "
      ]
     },
     "execution_count": 16,
     "metadata": {},
     "output_type": "execute_result"
    }
   ],
   "source": [
    "def get_neighbors(labor_category, price, experience):\n",
    "    vector = []\n",
    "    topic_values = lsi[tfidf[vocab.doc2bow(labor_category.split())]]\n",
    "    vector.extend([v[1] for v in topic_values])\n",
    "    vector.extend([price * PRICE_COEFF, experience * XP_COEFF])\n",
    "    \n",
    "    neighbors = list(neigh.kneighbors(vector, return_distance=False)[0])\n",
    "    return pd.DataFrame([rows.loc[i] for i in neighbors], index=neighbors)\n",
    "\n",
    "get_neighbors('Awesome Project Manager', 80, 5)"
   ]
  },
  {
   "cell_type": "code",
   "execution_count": null,
   "metadata": {
    "collapsed": true
   },
   "outputs": [],
   "source": []
  }
 ],
 "metadata": {
  "kernelspec": {
   "display_name": "Python 3",
   "language": "python",
   "name": "python3"
  },
  "language_info": {
   "codemirror_mode": {
    "name": "ipython",
    "version": 3
   },
   "file_extension": ".py",
   "mimetype": "text/x-python",
   "name": "python",
   "nbconvert_exporter": "python",
   "pygments_lexer": "ipython3",
   "version": "3.5.2"
  }
 },
 "nbformat": 4,
 "nbformat_minor": 1
}
