{
 "cells": [
  {
   "cell_type": "markdown",
   "metadata": {},
   "source": [
    "## Using latent semantic indexing on labor categories\n",
    "\n",
    "This is an attempt to use gensim's [Latent Semantic Indexing](https://radimrehurek.com/gensim/models/lsimodel.html) functionality with contract data, providing us with a way to find contract rows whose labor categories are similar to one we're looking at. Then we'll combine that data with some other dimensions from the contract rows, like price and minimum experience, and finally use a [K Nearest Neighbors](https://en.wikipedia.org/wiki/K-nearest_neighbors_algorithm) algorithm to help us find comparables for any given criteria.\n",
    "\n",
    "Code is largely based off the [Making an Impact with Python Natural Language Processing Tools](https://www.youtube.com/watch?v=jSdkFSg9oW8) Pycon 2016 tutorial, specifically its [LSI with Gensim](https://github.com/totalgood/twip/blob/master/docs/notebooks/09%20Features%20--%20LSI%20with%20Gensim.ipynb) notebook."
   ]
  },
  {
   "cell_type": "code",
   "execution_count": 1,
   "metadata": {
    "collapsed": true
   },
   "outputs": [],
   "source": [
    "import pandas as pd\n",
    "import warnings\n",
    "\n",
    "warnings.filterwarnings('ignore')\n",
    "rows = pd.read_csv('../data/hourly_prices.csv', index_col=False, thousands=',')"
   ]
  },
  {
   "cell_type": "code",
   "execution_count": 2,
   "metadata": {
    "collapsed": false
   },
   "outputs": [
    {
     "name": "stderr",
     "output_type": "stream",
     "text": [
      "/Users/atulvarma/Documents/explorations/calc-metrics-fun/venv/lib/python3.5/site-packages/gensim/utils.py:1015: UserWarning: Pattern library is not installed, lemmatization won't be available.\n",
      "  warnings.warn(\"Pattern library is not installed, lemmatization won't be available.\")\n"
     ]
    }
   ],
   "source": [
    "from gensim.models import LsiModel, TfidfModel\n",
    "from gensim.corpora import Dictionary"
   ]
  },
  {
   "cell_type": "markdown",
   "metadata": {},
   "source": [
    "We'll build a vocabulary off the labor categories in the contract rows, and then build a [term frequency–inverse document frequency](https://en.wikipedia.org/wiki/Tf%E2%80%93idf) matrix off it."
   ]
  },
  {
   "cell_type": "code",
   "execution_count": 3,
   "metadata": {
    "collapsed": false
   },
   "outputs": [],
   "source": [
    "vocab = Dictionary(rows['Labor Category'].str.split())"
   ]
  },
  {
   "cell_type": "code",
   "execution_count": 4,
   "metadata": {
    "collapsed": false
   },
   "outputs": [],
   "source": [
    "tfidf = TfidfModel(id2word=vocab, dictionary=vocab)"
   ]
  },
  {
   "cell_type": "code",
   "execution_count": 5,
   "metadata": {
    "collapsed": false
   },
   "outputs": [],
   "source": [
    "bows = rows['Labor Category'].apply(lambda x: vocab.doc2bow(x.split()))"
   ]
  },
  {
   "cell_type": "code",
   "execution_count": 6,
   "metadata": {
    "collapsed": false
   },
   "outputs": [
    {
     "data": {
      "text/plain": [
       "651"
      ]
     },
     "execution_count": 6,
     "metadata": {},
     "output_type": "execute_result"
    }
   ],
   "source": [
    "vocab.token2id['engineer']"
   ]
  },
  {
   "cell_type": "code",
   "execution_count": 7,
   "metadata": {
    "collapsed": false
   },
   "outputs": [
    {
     "data": {
      "text/plain": [
       "'Manager'"
      ]
     },
     "execution_count": 7,
     "metadata": {},
     "output_type": "execute_result"
    }
   ],
   "source": [
    "vocab[0]"
   ]
  },
  {
   "cell_type": "code",
   "execution_count": 8,
   "metadata": {
    "collapsed": false
   },
   "outputs": [
    {
     "data": {
      "text/plain": [
       "{'Manager': 0.65, 'Project': 0.76}"
      ]
     },
     "execution_count": 8,
     "metadata": {},
     "output_type": "execute_result"
    }
   ],
   "source": [
    "dict([(vocab[i], round(freq, 2)) for i, freq in tfidf[bows[0]]])"
   ]
  },
  {
   "cell_type": "markdown",
   "metadata": {},
   "source": [
    "Here we'll build a LSI model that places each labor category into a 5-dimensional vector."
   ]
  },
  {
   "cell_type": "code",
   "execution_count": 9,
   "metadata": {
    "collapsed": true
   },
   "outputs": [],
   "source": [
    "lsi = LsiModel(tfidf[bows], num_topics=5, id2word=vocab, extra_samples=100, power_iters=2)"
   ]
  },
  {
   "cell_type": "code",
   "execution_count": 10,
   "metadata": {
    "collapsed": false
   },
   "outputs": [
    {
     "data": {
      "text/plain": [
       "6944"
      ]
     },
     "execution_count": 10,
     "metadata": {},
     "output_type": "execute_result"
    }
   ],
   "source": [
    "len(vocab)"
   ]
  },
  {
   "cell_type": "code",
   "execution_count": 11,
   "metadata": {
    "collapsed": false
   },
   "outputs": [],
   "source": [
    "topics = lsi[bows]\n",
    "df_topics = pd.DataFrame([dict(d) for d in topics], index=bows.index, columns=range(5))"
   ]
  },
  {
   "cell_type": "code",
   "execution_count": 12,
   "metadata": {
    "collapsed": false
   },
   "outputs": [
    {
     "data": {
      "text/plain": [
       "'-0.511*\"Consultant\" + -0.333*\"Analyst\" + 0.329*\"Manager\" + 0.272*\"Project\" + -0.255*\"Senior\"'"
      ]
     },
     "execution_count": 12,
     "metadata": {},
     "output_type": "execute_result"
    }
   ],
   "source": [
    "lsi.print_topic(1, topn=5)"
   ]
  },
  {
   "cell_type": "markdown",
   "metadata": {},
   "source": [
    "This part is a bit weird: we're extending our vectors with information about the price and minimum experience of each contract row, semi-normalizing the data so that they don't \"overwhelm\" the importance of the LSI dimensions when calculating distances between points.\n",
    "\n",
    "I have no idea if this is actually legit."
   ]
  },
  {
   "cell_type": "code",
   "execution_count": 13,
   "metadata": {
    "collapsed": false
   },
   "outputs": [],
   "source": [
    "PRICE_COEFF = 1 / 500.0\n",
    "XP_COEFF = 1 / 10.0\n",
    "\n",
    "df_topics['Price'] = (rows['Year 1/base'] * PRICE_COEFF).fillna(0)\n",
    "df_topics['Experience'] = (rows['MinExpAct'] * XP_COEFF).fillna(0)"
   ]
  },
  {
   "cell_type": "markdown",
   "metadata": {},
   "source": [
    "Now we'll use a [K Nearest Neighbors](https://en.wikipedia.org/wiki/K-nearest_neighbors_algorithm) algorithm to make it easy for us to find vectors that are nearby."
   ]
  },
  {
   "cell_type": "code",
   "execution_count": 14,
   "metadata": {
    "collapsed": false
   },
   "outputs": [
    {
     "data": {
      "text/plain": [
       "NearestNeighbors(algorithm='auto', leaf_size=30, metric='minkowski',\n",
       "         metric_params=None, n_jobs=1, n_neighbors=5, p=2, radius=1.0)"
      ]
     },
     "execution_count": 14,
     "metadata": {},
     "output_type": "execute_result"
    }
   ],
   "source": [
    "from sklearn.neighbors import NearestNeighbors\n",
    "\n",
    "df_topics = df_topics.fillna(0)\n",
    "neigh = NearestNeighbors(n_neighbors=5)\n",
    "neigh.fit(df_topics)"
   ]
  },
  {
   "cell_type": "code",
   "execution_count": 15,
   "metadata": {
    "collapsed": false
   },
   "outputs": [
    {
     "data": {
      "text/plain": [
       "array([[  0,  17,  18, 104, 256]])"
      ]
     },
     "execution_count": 15,
     "metadata": {},
     "output_type": "execute_result"
    }
   ],
   "source": [
    "neigh.kneighbors(df_topics.ix[0].values.reshape(1, -1), return_distance=False)"
   ]
  },
  {
   "cell_type": "markdown",
   "metadata": {},
   "source": [
    "Here's where things potentially become useful: we'll create a function that takes a labor category, price, and experience, and returns a list of comparables from our vector space."
   ]
  },
  {
   "cell_type": "code",
   "execution_count": 16,
   "metadata": {
    "collapsed": false
   },
   "outputs": [
    {
     "data": {
      "text/html": [
       "<div>\n",
       "<table border=\"1\" class=\"dataframe\">\n",
       "  <thead>\n",
       "    <tr style=\"text-align: right;\">\n",
       "      <th></th>\n",
       "      <th>Labor Category</th>\n",
       "      <th>Year 1/base</th>\n",
       "      <th>Year 2</th>\n",
       "      <th>Year 3</th>\n",
       "      <th>Year 4</th>\n",
       "      <th>Year 5</th>\n",
       "      <th>Education</th>\n",
       "      <th>MinExpAct</th>\n",
       "      <th>Bus Size</th>\n",
       "      <th>Location</th>\n",
       "      <th>COMPANY NAME</th>\n",
       "      <th>CONTRACT .</th>\n",
       "      <th>Schedule</th>\n",
       "      <th>SIN NUMBER</th>\n",
       "      <th>Contract Year</th>\n",
       "      <th>Begin Date</th>\n",
       "      <th>End Date</th>\n",
       "      <th>CurrentYearPricing</th>\n",
       "    </tr>\n",
       "  </thead>\n",
       "  <tbody>\n",
       "    <tr>\n",
       "      <th>33394</th>\n",
       "      <td>Engineer</td>\n",
       "      <td>79.86</td>\n",
       "      <td>81.46</td>\n",
       "      <td>83.09</td>\n",
       "      <td>84.75</td>\n",
       "      <td>86.44</td>\n",
       "      <td>Bachelors</td>\n",
       "      <td>5.0</td>\n",
       "      <td>O</td>\n",
       "      <td>Contractor Site</td>\n",
       "      <td>SGT, Inc.</td>\n",
       "      <td>GS-23F-0381K</td>\n",
       "      <td>PES</td>\n",
       "      <td>871-1,2,3,4,5,6/RC</td>\n",
       "      <td>1</td>\n",
       "      <td>8/10/2000</td>\n",
       "      <td>8/9/2020</td>\n",
       "      <td>79.86</td>\n",
       "    </tr>\n",
       "    <tr>\n",
       "      <th>33791</th>\n",
       "      <td>Testing Engineer</td>\n",
       "      <td>78.95</td>\n",
       "      <td>81.21</td>\n",
       "      <td>83.53</td>\n",
       "      <td>85.92</td>\n",
       "      <td>88.38</td>\n",
       "      <td>Bachelors</td>\n",
       "      <td>5.0</td>\n",
       "      <td>S</td>\n",
       "      <td>NaN</td>\n",
       "      <td>Procon Consulting, LLC</td>\n",
       "      <td>GS-00F-247CA</td>\n",
       "      <td>Consolidated</td>\n",
       "      <td>C871 7</td>\n",
       "      <td>1</td>\n",
       "      <td>8/12/2015</td>\n",
       "      <td>8/11/2020</td>\n",
       "      <td>78.95</td>\n",
       "    </tr>\n",
       "    <tr>\n",
       "      <th>32842</th>\n",
       "      <td>Engineer</td>\n",
       "      <td>81.10</td>\n",
       "      <td>82.97</td>\n",
       "      <td>84.88</td>\n",
       "      <td>86.83</td>\n",
       "      <td>88.83</td>\n",
       "      <td>Bachelors</td>\n",
       "      <td>5.0</td>\n",
       "      <td>O</td>\n",
       "      <td>Customer Site</td>\n",
       "      <td>Navmar Applied Sciences Corporation</td>\n",
       "      <td>GS-10F-0281U</td>\n",
       "      <td>PES</td>\n",
       "      <td>871-1, 871-2, 871-3, 871-4, 871-5, 871-6</td>\n",
       "      <td>3</td>\n",
       "      <td>7/8/2008</td>\n",
       "      <td>7/7/2018</td>\n",
       "      <td>84.88</td>\n",
       "    </tr>\n",
       "    <tr>\n",
       "      <th>33844</th>\n",
       "      <td>Engineer</td>\n",
       "      <td>78.79</td>\n",
       "      <td>81.00</td>\n",
       "      <td>83.26</td>\n",
       "      <td>85.60</td>\n",
       "      <td>87.99</td>\n",
       "      <td>Bachelors</td>\n",
       "      <td>5.0</td>\n",
       "      <td>S</td>\n",
       "      <td>Both</td>\n",
       "      <td>Moca Systems, Inc.</td>\n",
       "      <td>GS-00F-255CA</td>\n",
       "      <td>Consolidated</td>\n",
       "      <td>874-1</td>\n",
       "      <td>1</td>\n",
       "      <td>8/18/2015</td>\n",
       "      <td>8/17/2020</td>\n",
       "      <td>78.79</td>\n",
       "    </tr>\n",
       "    <tr>\n",
       "      <th>33845</th>\n",
       "      <td>Engineer</td>\n",
       "      <td>78.79</td>\n",
       "      <td>81.00</td>\n",
       "      <td>83.26</td>\n",
       "      <td>85.60</td>\n",
       "      <td>87.99</td>\n",
       "      <td>Bachelors</td>\n",
       "      <td>5.0</td>\n",
       "      <td>S</td>\n",
       "      <td>Both</td>\n",
       "      <td>Moca Systems, Inc.</td>\n",
       "      <td>GS-00F-255CA</td>\n",
       "      <td>Consolidated</td>\n",
       "      <td>874-7</td>\n",
       "      <td>1</td>\n",
       "      <td>8/18/2015</td>\n",
       "      <td>8/17/2020</td>\n",
       "      <td>78.79</td>\n",
       "    </tr>\n",
       "  </tbody>\n",
       "</table>\n",
       "</div>"
      ],
      "text/plain": [
       "         Labor Category  Year 1/base  Year 2  Year 3  Year 4  Year 5  \\\n",
       "33394          Engineer        79.86   81.46   83.09   84.75   86.44   \n",
       "33791  Testing Engineer        78.95   81.21   83.53   85.92   88.38   \n",
       "32842          Engineer        81.10   82.97   84.88   86.83   88.83   \n",
       "33844          Engineer        78.79   81.00   83.26   85.60   87.99   \n",
       "33845          Engineer        78.79   81.00   83.26   85.60   87.99   \n",
       "\n",
       "       Education  MinExpAct Bus Size         Location  \\\n",
       "33394  Bachelors        5.0        O  Contractor Site   \n",
       "33791  Bachelors        5.0        S              NaN   \n",
       "32842  Bachelors        5.0        O    Customer Site   \n",
       "33844  Bachelors        5.0        S             Both   \n",
       "33845  Bachelors        5.0        S             Both   \n",
       "\n",
       "                              COMPANY NAME    CONTRACT .      Schedule  \\\n",
       "33394                            SGT, Inc.  GS-23F-0381K           PES   \n",
       "33791               Procon Consulting, LLC  GS-00F-247CA  Consolidated   \n",
       "32842  Navmar Applied Sciences Corporation  GS-10F-0281U           PES   \n",
       "33844                   Moca Systems, Inc.  GS-00F-255CA  Consolidated   \n",
       "33845                   Moca Systems, Inc.  GS-00F-255CA  Consolidated   \n",
       "\n",
       "                                     SIN NUMBER  Contract Year Begin Date  \\\n",
       "33394                        871-1,2,3,4,5,6/RC              1  8/10/2000   \n",
       "33791                                    C871 7              1  8/12/2015   \n",
       "32842  871-1, 871-2, 871-3, 871-4, 871-5, 871-6              3   7/8/2008   \n",
       "33844                                     874-1              1  8/18/2015   \n",
       "33845                                     874-7              1  8/18/2015   \n",
       "\n",
       "        End Date  CurrentYearPricing  \n",
       "33394   8/9/2020               79.86  \n",
       "33791  8/11/2020               78.95  \n",
       "32842   7/7/2018               84.88  \n",
       "33844  8/17/2020               78.79  \n",
       "33845  8/17/2020               78.79  "
      ]
     },
     "execution_count": 16,
     "metadata": {},
     "output_type": "execute_result"
    }
   ],
   "source": [
    "def get_neighbors(labor_category, price, experience):\n",
    "    vector = []\n",
    "    topic_values = lsi[tfidf[vocab.doc2bow(labor_category.split())]]\n",
    "    vector.extend([v[1] for v in topic_values])\n",
    "    vector.extend([price * PRICE_COEFF, experience * XP_COEFF])\n",
    "    \n",
    "    neighbors = list(neigh.kneighbors([vector], return_distance=False)[0])\n",
    "    return pd.DataFrame([rows.loc[i] for i in neighbors], index=neighbors)\n",
    "\n",
    "get_neighbors('Awesome Engineer', 80, 5)"
   ]
  },
  {
   "cell_type": "code",
   "execution_count": null,
   "metadata": {
    "collapsed": true
   },
   "outputs": [],
   "source": []
  }
 ],
 "metadata": {
  "kernelspec": {
   "display_name": "Python 3",
   "language": "python",
   "name": "python3"
  },
  "language_info": {
   "codemirror_mode": {
    "name": "ipython",
    "version": 3
   },
   "file_extension": ".py",
   "mimetype": "text/x-python",
   "name": "python",
   "nbconvert_exporter": "python",
   "pygments_lexer": "ipython3",
   "version": "3.5.2"
  }
 },
 "nbformat": 4,
 "nbformat_minor": 1
}
